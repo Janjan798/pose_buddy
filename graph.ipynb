{
 "cells": [
  {
   "cell_type": "code",
   "execution_count": null,
   "id": "e931a219",
   "metadata": {},
   "outputs": [],
   "source": [
    "import plotly.express as px\n",
    "import pandas as pd\n"
   ]
  },
  {
   "cell_type": "code",
   "execution_count": 21,
   "id": "066f7603",
   "metadata": {},
   "outputs": [],
   "source": [
    "df = pd.read_csv(\"video1.csv\")"
   ]
  },
  {
   "cell_type": "code",
   "execution_count": 22,
   "id": "afca0a39",
   "metadata": {},
   "outputs": [
    {
     "name": "stderr",
     "output_type": "stream",
     "text": [
      "C:\\Users\\ananj\\AppData\\Local\\Temp\\ipykernel_844\\3922151054.py:3: SettingWithCopyWarning:\n",
      "\n",
      "\n",
      "A value is trying to be set on a copy of a slice from a DataFrame.\n",
      "Try using .loc[row_indexer,col_indexer] = value instead\n",
      "\n",
      "See the caveats in the documentation: https://pandas.pydata.org/pandas-docs/stable/user_guide/indexing.html#returning-a-view-versus-a-copy\n",
      "\n",
      "C:\\Users\\ananj\\AppData\\Local\\Temp\\ipykernel_844\\3922151054.py:4: SettingWithCopyWarning:\n",
      "\n",
      "\n",
      "A value is trying to be set on a copy of a slice from a DataFrame.\n",
      "Try using .loc[row_indexer,col_indexer] = value instead\n",
      "\n",
      "See the caveats in the documentation: https://pandas.pydata.org/pandas-docs/stable/user_guide/indexing.html#returning-a-view-versus-a-copy\n",
      "\n"
     ]
    }
   ],
   "source": [
    "frame_id = 200\n",
    "frame_df = df[df['frame'] == frame_id]\n",
    "frame_df['x']*=9.6\n",
    "frame_df['y']*=5.4"
   ]
  },
  {
   "cell_type": "code",
   "execution_count": 23,
   "id": "e5c9203d",
   "metadata": {},
   "outputs": [
    {
     "data": {
      "text/html": [
       "<div>\n",
       "<style scoped>\n",
       "    .dataframe tbody tr th:only-of-type {\n",
       "        vertical-align: middle;\n",
       "    }\n",
       "\n",
       "    .dataframe tbody tr th {\n",
       "        vertical-align: top;\n",
       "    }\n",
       "\n",
       "    .dataframe thead th {\n",
       "        text-align: right;\n",
       "    }\n",
       "</style>\n",
       "<table border=\"1\" class=\"dataframe\">\n",
       "  <thead>\n",
       "    <tr style=\"text-align: right;\">\n",
       "      <th></th>\n",
       "      <th>frame</th>\n",
       "      <th>landmark</th>\n",
       "      <th>x</th>\n",
       "      <th>y</th>\n",
       "      <th>z</th>\n",
       "      <th>visibility</th>\n",
       "      <th>presence</th>\n",
       "    </tr>\n",
       "  </thead>\n",
       "  <tbody>\n",
       "    <tr>\n",
       "      <th>6501</th>\n",
       "      <td>200</td>\n",
       "      <td>0</td>\n",
       "      <td>5.146734</td>\n",
       "      <td>1.157900</td>\n",
       "      <td>-0.075693</td>\n",
       "      <td>1.000000</td>\n",
       "      <td>0.999998</td>\n",
       "    </tr>\n",
       "    <tr>\n",
       "      <th>6502</th>\n",
       "      <td>200</td>\n",
       "      <td>1</td>\n",
       "      <td>5.086285</td>\n",
       "      <td>1.092976</td>\n",
       "      <td>-0.059345</td>\n",
       "      <td>1.000000</td>\n",
       "      <td>0.999995</td>\n",
       "    </tr>\n",
       "    <tr>\n",
       "      <th>6503</th>\n",
       "      <td>200</td>\n",
       "      <td>2</td>\n",
       "      <td>5.079264</td>\n",
       "      <td>1.095268</td>\n",
       "      <td>-0.059260</td>\n",
       "      <td>1.000000</td>\n",
       "      <td>0.999995</td>\n",
       "    </tr>\n",
       "    <tr>\n",
       "      <th>6504</th>\n",
       "      <td>200</td>\n",
       "      <td>3</td>\n",
       "      <td>5.071288</td>\n",
       "      <td>1.097954</td>\n",
       "      <td>-0.059191</td>\n",
       "      <td>1.000000</td>\n",
       "      <td>0.999994</td>\n",
       "    </tr>\n",
       "    <tr>\n",
       "      <th>6505</th>\n",
       "      <td>200</td>\n",
       "      <td>4</td>\n",
       "      <td>5.069007</td>\n",
       "      <td>1.092861</td>\n",
       "      <td>-0.089663</td>\n",
       "      <td>1.000000</td>\n",
       "      <td>0.999996</td>\n",
       "    </tr>\n",
       "    <tr>\n",
       "      <th>6506</th>\n",
       "      <td>200</td>\n",
       "      <td>5</td>\n",
       "      <td>5.049573</td>\n",
       "      <td>1.095380</td>\n",
       "      <td>-0.089667</td>\n",
       "      <td>1.000000</td>\n",
       "      <td>0.999996</td>\n",
       "    </tr>\n",
       "    <tr>\n",
       "      <th>6507</th>\n",
       "      <td>200</td>\n",
       "      <td>6</td>\n",
       "      <td>5.029187</td>\n",
       "      <td>1.098285</td>\n",
       "      <td>-0.089715</td>\n",
       "      <td>1.000000</td>\n",
       "      <td>0.999996</td>\n",
       "    </tr>\n",
       "    <tr>\n",
       "      <th>6508</th>\n",
       "      <td>200</td>\n",
       "      <td>7</td>\n",
       "      <td>4.977312</td>\n",
       "      <td>1.160291</td>\n",
       "      <td>0.022739</td>\n",
       "      <td>1.000000</td>\n",
       "      <td>0.999997</td>\n",
       "    </tr>\n",
       "    <tr>\n",
       "      <th>6509</th>\n",
       "      <td>200</td>\n",
       "      <td>8</td>\n",
       "      <td>4.929412</td>\n",
       "      <td>1.162628</td>\n",
       "      <td>-0.117439</td>\n",
       "      <td>1.000000</td>\n",
       "      <td>0.999998</td>\n",
       "    </tr>\n",
       "    <tr>\n",
       "      <th>6510</th>\n",
       "      <td>200</td>\n",
       "      <td>9</td>\n",
       "      <td>5.139754</td>\n",
       "      <td>1.251628</td>\n",
       "      <td>-0.042871</td>\n",
       "      <td>1.000000</td>\n",
       "      <td>0.999998</td>\n",
       "    </tr>\n",
       "    <tr>\n",
       "      <th>6511</th>\n",
       "      <td>200</td>\n",
       "      <td>10</td>\n",
       "      <td>5.117674</td>\n",
       "      <td>1.248705</td>\n",
       "      <td>-0.083203</td>\n",
       "      <td>1.000000</td>\n",
       "      <td>0.999998</td>\n",
       "    </tr>\n",
       "    <tr>\n",
       "      <th>6512</th>\n",
       "      <td>200</td>\n",
       "      <td>11</td>\n",
       "      <td>4.985904</td>\n",
       "      <td>1.706557</td>\n",
       "      <td>0.135969</td>\n",
       "      <td>0.999989</td>\n",
       "      <td>0.999996</td>\n",
       "    </tr>\n",
       "    <tr>\n",
       "      <th>6513</th>\n",
       "      <td>200</td>\n",
       "      <td>12</td>\n",
       "      <td>4.713778</td>\n",
       "      <td>1.591623</td>\n",
       "      <td>-0.165061</td>\n",
       "      <td>0.999999</td>\n",
       "      <td>0.999998</td>\n",
       "    </tr>\n",
       "    <tr>\n",
       "      <th>6514</th>\n",
       "      <td>200</td>\n",
       "      <td>13</td>\n",
       "      <td>4.954021</td>\n",
       "      <td>2.289440</td>\n",
       "      <td>0.232901</td>\n",
       "      <td>0.611748</td>\n",
       "      <td>0.999956</td>\n",
       "    </tr>\n",
       "    <tr>\n",
       "      <th>6515</th>\n",
       "      <td>200</td>\n",
       "      <td>14</td>\n",
       "      <td>4.075880</td>\n",
       "      <td>1.931826</td>\n",
       "      <td>-0.272529</td>\n",
       "      <td>0.998070</td>\n",
       "      <td>0.999967</td>\n",
       "    </tr>\n",
       "    <tr>\n",
       "      <th>6516</th>\n",
       "      <td>200</td>\n",
       "      <td>15</td>\n",
       "      <td>5.355802</td>\n",
       "      <td>2.085324</td>\n",
       "      <td>0.237028</td>\n",
       "      <td>0.919799</td>\n",
       "      <td>0.999995</td>\n",
       "    </tr>\n",
       "    <tr>\n",
       "      <th>6517</th>\n",
       "      <td>200</td>\n",
       "      <td>16</td>\n",
       "      <td>4.593196</td>\n",
       "      <td>2.357499</td>\n",
       "      <td>-0.331126</td>\n",
       "      <td>0.990669</td>\n",
       "      <td>0.999974</td>\n",
       "    </tr>\n",
       "    <tr>\n",
       "      <th>6518</th>\n",
       "      <td>200</td>\n",
       "      <td>17</td>\n",
       "      <td>5.436249</td>\n",
       "      <td>2.022996</td>\n",
       "      <td>0.244714</td>\n",
       "      <td>0.896234</td>\n",
       "      <td>0.999988</td>\n",
       "    </tr>\n",
       "    <tr>\n",
       "      <th>6519</th>\n",
       "      <td>200</td>\n",
       "      <td>18</td>\n",
       "      <td>4.681015</td>\n",
       "      <td>2.452708</td>\n",
       "      <td>-0.356114</td>\n",
       "      <td>0.979161</td>\n",
       "      <td>0.999929</td>\n",
       "    </tr>\n",
       "    <tr>\n",
       "      <th>6520</th>\n",
       "      <td>200</td>\n",
       "      <td>19</td>\n",
       "      <td>5.449501</td>\n",
       "      <td>1.970505</td>\n",
       "      <td>0.227926</td>\n",
       "      <td>0.901066</td>\n",
       "      <td>0.999991</td>\n",
       "    </tr>\n",
       "    <tr>\n",
       "      <th>6521</th>\n",
       "      <td>200</td>\n",
       "      <td>20</td>\n",
       "      <td>4.750626</td>\n",
       "      <td>2.394367</td>\n",
       "      <td>-0.343087</td>\n",
       "      <td>0.976690</td>\n",
       "      <td>0.999949</td>\n",
       "    </tr>\n",
       "    <tr>\n",
       "      <th>6522</th>\n",
       "      <td>200</td>\n",
       "      <td>21</td>\n",
       "      <td>5.422512</td>\n",
       "      <td>1.988084</td>\n",
       "      <td>0.229791</td>\n",
       "      <td>0.877939</td>\n",
       "      <td>0.999995</td>\n",
       "    </tr>\n",
       "    <tr>\n",
       "      <th>6523</th>\n",
       "      <td>200</td>\n",
       "      <td>22</td>\n",
       "      <td>4.730413</td>\n",
       "      <td>2.356960</td>\n",
       "      <td>-0.323853</td>\n",
       "      <td>0.964556</td>\n",
       "      <td>0.999967</td>\n",
       "    </tr>\n",
       "    <tr>\n",
       "      <th>6524</th>\n",
       "      <td>200</td>\n",
       "      <td>23</td>\n",
       "      <td>4.735882</td>\n",
       "      <td>2.908432</td>\n",
       "      <td>0.100457</td>\n",
       "      <td>0.999952</td>\n",
       "      <td>0.999997</td>\n",
       "    </tr>\n",
       "    <tr>\n",
       "      <th>6525</th>\n",
       "      <td>200</td>\n",
       "      <td>24</td>\n",
       "      <td>4.743945</td>\n",
       "      <td>2.922080</td>\n",
       "      <td>-0.100446</td>\n",
       "      <td>0.999962</td>\n",
       "      <td>0.999997</td>\n",
       "    </tr>\n",
       "    <tr>\n",
       "      <th>6526</th>\n",
       "      <td>200</td>\n",
       "      <td>25</td>\n",
       "      <td>4.152978</td>\n",
       "      <td>3.663162</td>\n",
       "      <td>0.075565</td>\n",
       "      <td>0.952357</td>\n",
       "      <td>0.999987</td>\n",
       "    </tr>\n",
       "    <tr>\n",
       "      <th>6527</th>\n",
       "      <td>200</td>\n",
       "      <td>26</td>\n",
       "      <td>5.553708</td>\n",
       "      <td>3.417457</td>\n",
       "      <td>-0.038405</td>\n",
       "      <td>0.993225</td>\n",
       "      <td>0.999971</td>\n",
       "    </tr>\n",
       "    <tr>\n",
       "      <th>6528</th>\n",
       "      <td>200</td>\n",
       "      <td>27</td>\n",
       "      <td>3.381023</td>\n",
       "      <td>4.239768</td>\n",
       "      <td>0.058542</td>\n",
       "      <td>0.982912</td>\n",
       "      <td>0.999950</td>\n",
       "    </tr>\n",
       "    <tr>\n",
       "      <th>6529</th>\n",
       "      <td>200</td>\n",
       "      <td>28</td>\n",
       "      <td>5.080447</td>\n",
       "      <td>4.322532</td>\n",
       "      <td>0.041523</td>\n",
       "      <td>0.994774</td>\n",
       "      <td>0.999892</td>\n",
       "    </tr>\n",
       "    <tr>\n",
       "      <th>6530</th>\n",
       "      <td>200</td>\n",
       "      <td>29</td>\n",
       "      <td>3.162597</td>\n",
       "      <td>4.234685</td>\n",
       "      <td>0.055827</td>\n",
       "      <td>0.987651</td>\n",
       "      <td>0.999871</td>\n",
       "    </tr>\n",
       "    <tr>\n",
       "      <th>6531</th>\n",
       "      <td>200</td>\n",
       "      <td>30</td>\n",
       "      <td>4.897501</td>\n",
       "      <td>4.433953</td>\n",
       "      <td>0.048845</td>\n",
       "      <td>0.989475</td>\n",
       "      <td>0.999851</td>\n",
       "    </tr>\n",
       "    <tr>\n",
       "      <th>6532</th>\n",
       "      <td>200</td>\n",
       "      <td>31</td>\n",
       "      <td>3.359160</td>\n",
       "      <td>4.627623</td>\n",
       "      <td>0.021031</td>\n",
       "      <td>0.975455</td>\n",
       "      <td>0.999588</td>\n",
       "    </tr>\n",
       "    <tr>\n",
       "      <th>6533</th>\n",
       "      <td>200</td>\n",
       "      <td>32</td>\n",
       "      <td>5.456642</td>\n",
       "      <td>4.612531</td>\n",
       "      <td>0.037149</td>\n",
       "      <td>0.989139</td>\n",
       "      <td>0.999469</td>\n",
       "    </tr>\n",
       "  </tbody>\n",
       "</table>\n",
       "</div>"
      ],
      "text/plain": [
       "      frame  landmark         x         y         z  visibility  presence\n",
       "6501    200         0  5.146734  1.157900 -0.075693    1.000000  0.999998\n",
       "6502    200         1  5.086285  1.092976 -0.059345    1.000000  0.999995\n",
       "6503    200         2  5.079264  1.095268 -0.059260    1.000000  0.999995\n",
       "6504    200         3  5.071288  1.097954 -0.059191    1.000000  0.999994\n",
       "6505    200         4  5.069007  1.092861 -0.089663    1.000000  0.999996\n",
       "6506    200         5  5.049573  1.095380 -0.089667    1.000000  0.999996\n",
       "6507    200         6  5.029187  1.098285 -0.089715    1.000000  0.999996\n",
       "6508    200         7  4.977312  1.160291  0.022739    1.000000  0.999997\n",
       "6509    200         8  4.929412  1.162628 -0.117439    1.000000  0.999998\n",
       "6510    200         9  5.139754  1.251628 -0.042871    1.000000  0.999998\n",
       "6511    200        10  5.117674  1.248705 -0.083203    1.000000  0.999998\n",
       "6512    200        11  4.985904  1.706557  0.135969    0.999989  0.999996\n",
       "6513    200        12  4.713778  1.591623 -0.165061    0.999999  0.999998\n",
       "6514    200        13  4.954021  2.289440  0.232901    0.611748  0.999956\n",
       "6515    200        14  4.075880  1.931826 -0.272529    0.998070  0.999967\n",
       "6516    200        15  5.355802  2.085324  0.237028    0.919799  0.999995\n",
       "6517    200        16  4.593196  2.357499 -0.331126    0.990669  0.999974\n",
       "6518    200        17  5.436249  2.022996  0.244714    0.896234  0.999988\n",
       "6519    200        18  4.681015  2.452708 -0.356114    0.979161  0.999929\n",
       "6520    200        19  5.449501  1.970505  0.227926    0.901066  0.999991\n",
       "6521    200        20  4.750626  2.394367 -0.343087    0.976690  0.999949\n",
       "6522    200        21  5.422512  1.988084  0.229791    0.877939  0.999995\n",
       "6523    200        22  4.730413  2.356960 -0.323853    0.964556  0.999967\n",
       "6524    200        23  4.735882  2.908432  0.100457    0.999952  0.999997\n",
       "6525    200        24  4.743945  2.922080 -0.100446    0.999962  0.999997\n",
       "6526    200        25  4.152978  3.663162  0.075565    0.952357  0.999987\n",
       "6527    200        26  5.553708  3.417457 -0.038405    0.993225  0.999971\n",
       "6528    200        27  3.381023  4.239768  0.058542    0.982912  0.999950\n",
       "6529    200        28  5.080447  4.322532  0.041523    0.994774  0.999892\n",
       "6530    200        29  3.162597  4.234685  0.055827    0.987651  0.999871\n",
       "6531    200        30  4.897501  4.433953  0.048845    0.989475  0.999851\n",
       "6532    200        31  3.359160  4.627623  0.021031    0.975455  0.999588\n",
       "6533    200        32  5.456642  4.612531  0.037149    0.989139  0.999469"
      ]
     },
     "execution_count": 23,
     "metadata": {},
     "output_type": "execute_result"
    }
   ],
   "source": [
    "frame_df"
   ]
  },
  {
   "cell_type": "code",
   "execution_count": 24,
   "id": "14b6d97b",
   "metadata": {},
   "outputs": [],
   "source": [
    "fig = px.scatter(frame_df, x=\"x\", y=\"y\", text=\"landmark\",\n",
    "                 title=f\"2D Pose Landmarks - Frame {frame_id}\",\n",
    "                 labels={\"x\": \"X\", \"y\": \"Y\"},\n",
    "                 range_x=(0,9.6),\n",
    "                 range_y=(0,5.4))"
   ]
  },
  {
   "cell_type": "code",
   "execution_count": 25,
   "id": "ef946289",
   "metadata": {},
   "outputs": [
    {
     "data": {
      "application/vnd.plotly.v1+json": {
       "config": {
        "plotlyServerURL": "https://plot.ly"
       },
       "data": [
        {
         "hovertemplate": "X=%{x}<br>Y=%{y}<br>landmark=%{text}<extra></extra>",
         "legendgroup": "",
         "marker": {
          "color": "#636efa",
          "symbol": "circle"
         },
         "mode": "markers+text",
         "name": "",
         "orientation": "v",
         "showlegend": false,
         "text": {
          "bdata": "AAAAAAAAAAAAAAAAAADwPwAAAAAAAABAAAAAAAAACEAAAAAAAAAQQAAAAAAAABRAAAAAAAAAGEAAAAAAAAAcQAAAAAAAACBAAAAAAAAAIkAAAAAAAAAkQAAAAAAAACZAAAAAAAAAKEAAAAAAAAAqQAAAAAAAACxAAAAAAAAALkAAAAAAAAAwQAAAAAAAADFAAAAAAAAAMkAAAAAAAAAzQAAAAAAAADRAAAAAAAAANUAAAAAAAAA2QAAAAAAAADdAAAAAAAAAOEAAAAAAAAA5QAAAAAAAADpAAAAAAAAAO0AAAAAAAAA8QAAAAAAAAD1AAAAAAAAAPkAAAAAAAAA/QAAAAAAAAEBA",
          "dtype": "f8"
         },
         "textposition": "top center",
         "type": "scatter",
         "x": {
          "bdata": "mZmZWUGWFEAzMzMzW1gUQDMzM7MqURRAMzMzs/9IFEBmZmamqUYUQDMzMzPDMhRAZmZmJuMdFEAzMzNzxOgTQM3MzMy3txNAzczMzBuPFECZmZmZf3gUQJmZmdmQ8RNAZmZmhujaEkCZmZnZ6tATQMzMzIyzTRBAMzMzc1dsFUBmZmambl8SQJmZmRm4vhVAZmZm5lu5EkCZmZkZSswVQAAAAACkABNAZmZm5qawFUCZmZl58esSQMzMzCyL8RJAMzMz08z5EkAAAABAppwQQDMzMzP/NhZAy8zMzFUMC0AAAADAYFIUQGVmZmb/TAlAMzMzcwqXE0CYmZkZj98KQDMzM/OZ0xVA",
          "dtype": "f8"
         },
         "xaxis": "x",
         "y": {
          "bdata": "mJmZocKG8j/LzMzU1HzxP2dmZn43hvE/mpmZGTiR8T8zMzOrW3zxPzEzM3OthvE/zczMDJOS8T////+/jZDyPzQzMysgmvI/mZmZeasG9D+YmZkhsvrzP5qZmQkPTvs/////f0l3+T9nZmbWxVACQJmZmTnC6P4/AAAAKL6uAEDNzMxcKNwCQDMzM7sYLwBAAAAANCWfA0DNzMycMIf/P83MzNSpJwNANDMzgzHP/z8AAADgDdsCQM3MzAx4RAdANDMzY2tgB0CamZnZJ04NQM3MzKTzVgtAmpmZxYX1EEDNzMy0RUoRQM3MzDxR8BBAmpmZDV68EUDNzMyAr4ISQAAAAFQ7cxJA",
          "dtype": "f8"
         },
         "yaxis": "y"
        }
       ],
       "layout": {
        "legend": {
         "tracegroupgap": 0
        },
        "template": {
         "data": {
          "bar": [
           {
            "error_x": {
             "color": "#2a3f5f"
            },
            "error_y": {
             "color": "#2a3f5f"
            },
            "marker": {
             "line": {
              "color": "#E5ECF6",
              "width": 0.5
             },
             "pattern": {
              "fillmode": "overlay",
              "size": 10,
              "solidity": 0.2
             }
            },
            "type": "bar"
           }
          ],
          "barpolar": [
           {
            "marker": {
             "line": {
              "color": "#E5ECF6",
              "width": 0.5
             },
             "pattern": {
              "fillmode": "overlay",
              "size": 10,
              "solidity": 0.2
             }
            },
            "type": "barpolar"
           }
          ],
          "carpet": [
           {
            "aaxis": {
             "endlinecolor": "#2a3f5f",
             "gridcolor": "white",
             "linecolor": "white",
             "minorgridcolor": "white",
             "startlinecolor": "#2a3f5f"
            },
            "baxis": {
             "endlinecolor": "#2a3f5f",
             "gridcolor": "white",
             "linecolor": "white",
             "minorgridcolor": "white",
             "startlinecolor": "#2a3f5f"
            },
            "type": "carpet"
           }
          ],
          "choropleth": [
           {
            "colorbar": {
             "outlinewidth": 0,
             "ticks": ""
            },
            "type": "choropleth"
           }
          ],
          "contour": [
           {
            "colorbar": {
             "outlinewidth": 0,
             "ticks": ""
            },
            "colorscale": [
             [
              0,
              "#0d0887"
             ],
             [
              0.1111111111111111,
              "#46039f"
             ],
             [
              0.2222222222222222,
              "#7201a8"
             ],
             [
              0.3333333333333333,
              "#9c179e"
             ],
             [
              0.4444444444444444,
              "#bd3786"
             ],
             [
              0.5555555555555556,
              "#d8576b"
             ],
             [
              0.6666666666666666,
              "#ed7953"
             ],
             [
              0.7777777777777778,
              "#fb9f3a"
             ],
             [
              0.8888888888888888,
              "#fdca26"
             ],
             [
              1,
              "#f0f921"
             ]
            ],
            "type": "contour"
           }
          ],
          "contourcarpet": [
           {
            "colorbar": {
             "outlinewidth": 0,
             "ticks": ""
            },
            "type": "contourcarpet"
           }
          ],
          "heatmap": [
           {
            "colorbar": {
             "outlinewidth": 0,
             "ticks": ""
            },
            "colorscale": [
             [
              0,
              "#0d0887"
             ],
             [
              0.1111111111111111,
              "#46039f"
             ],
             [
              0.2222222222222222,
              "#7201a8"
             ],
             [
              0.3333333333333333,
              "#9c179e"
             ],
             [
              0.4444444444444444,
              "#bd3786"
             ],
             [
              0.5555555555555556,
              "#d8576b"
             ],
             [
              0.6666666666666666,
              "#ed7953"
             ],
             [
              0.7777777777777778,
              "#fb9f3a"
             ],
             [
              0.8888888888888888,
              "#fdca26"
             ],
             [
              1,
              "#f0f921"
             ]
            ],
            "type": "heatmap"
           }
          ],
          "histogram": [
           {
            "marker": {
             "pattern": {
              "fillmode": "overlay",
              "size": 10,
              "solidity": 0.2
             }
            },
            "type": "histogram"
           }
          ],
          "histogram2d": [
           {
            "colorbar": {
             "outlinewidth": 0,
             "ticks": ""
            },
            "colorscale": [
             [
              0,
              "#0d0887"
             ],
             [
              0.1111111111111111,
              "#46039f"
             ],
             [
              0.2222222222222222,
              "#7201a8"
             ],
             [
              0.3333333333333333,
              "#9c179e"
             ],
             [
              0.4444444444444444,
              "#bd3786"
             ],
             [
              0.5555555555555556,
              "#d8576b"
             ],
             [
              0.6666666666666666,
              "#ed7953"
             ],
             [
              0.7777777777777778,
              "#fb9f3a"
             ],
             [
              0.8888888888888888,
              "#fdca26"
             ],
             [
              1,
              "#f0f921"
             ]
            ],
            "type": "histogram2d"
           }
          ],
          "histogram2dcontour": [
           {
            "colorbar": {
             "outlinewidth": 0,
             "ticks": ""
            },
            "colorscale": [
             [
              0,
              "#0d0887"
             ],
             [
              0.1111111111111111,
              "#46039f"
             ],
             [
              0.2222222222222222,
              "#7201a8"
             ],
             [
              0.3333333333333333,
              "#9c179e"
             ],
             [
              0.4444444444444444,
              "#bd3786"
             ],
             [
              0.5555555555555556,
              "#d8576b"
             ],
             [
              0.6666666666666666,
              "#ed7953"
             ],
             [
              0.7777777777777778,
              "#fb9f3a"
             ],
             [
              0.8888888888888888,
              "#fdca26"
             ],
             [
              1,
              "#f0f921"
             ]
            ],
            "type": "histogram2dcontour"
           }
          ],
          "mesh3d": [
           {
            "colorbar": {
             "outlinewidth": 0,
             "ticks": ""
            },
            "type": "mesh3d"
           }
          ],
          "parcoords": [
           {
            "line": {
             "colorbar": {
              "outlinewidth": 0,
              "ticks": ""
             }
            },
            "type": "parcoords"
           }
          ],
          "pie": [
           {
            "automargin": true,
            "type": "pie"
           }
          ],
          "scatter": [
           {
            "fillpattern": {
             "fillmode": "overlay",
             "size": 10,
             "solidity": 0.2
            },
            "type": "scatter"
           }
          ],
          "scatter3d": [
           {
            "line": {
             "colorbar": {
              "outlinewidth": 0,
              "ticks": ""
             }
            },
            "marker": {
             "colorbar": {
              "outlinewidth": 0,
              "ticks": ""
             }
            },
            "type": "scatter3d"
           }
          ],
          "scattercarpet": [
           {
            "marker": {
             "colorbar": {
              "outlinewidth": 0,
              "ticks": ""
             }
            },
            "type": "scattercarpet"
           }
          ],
          "scattergeo": [
           {
            "marker": {
             "colorbar": {
              "outlinewidth": 0,
              "ticks": ""
             }
            },
            "type": "scattergeo"
           }
          ],
          "scattergl": [
           {
            "marker": {
             "colorbar": {
              "outlinewidth": 0,
              "ticks": ""
             }
            },
            "type": "scattergl"
           }
          ],
          "scattermap": [
           {
            "marker": {
             "colorbar": {
              "outlinewidth": 0,
              "ticks": ""
             }
            },
            "type": "scattermap"
           }
          ],
          "scattermapbox": [
           {
            "marker": {
             "colorbar": {
              "outlinewidth": 0,
              "ticks": ""
             }
            },
            "type": "scattermapbox"
           }
          ],
          "scatterpolar": [
           {
            "marker": {
             "colorbar": {
              "outlinewidth": 0,
              "ticks": ""
             }
            },
            "type": "scatterpolar"
           }
          ],
          "scatterpolargl": [
           {
            "marker": {
             "colorbar": {
              "outlinewidth": 0,
              "ticks": ""
             }
            },
            "type": "scatterpolargl"
           }
          ],
          "scatterternary": [
           {
            "marker": {
             "colorbar": {
              "outlinewidth": 0,
              "ticks": ""
             }
            },
            "type": "scatterternary"
           }
          ],
          "surface": [
           {
            "colorbar": {
             "outlinewidth": 0,
             "ticks": ""
            },
            "colorscale": [
             [
              0,
              "#0d0887"
             ],
             [
              0.1111111111111111,
              "#46039f"
             ],
             [
              0.2222222222222222,
              "#7201a8"
             ],
             [
              0.3333333333333333,
              "#9c179e"
             ],
             [
              0.4444444444444444,
              "#bd3786"
             ],
             [
              0.5555555555555556,
              "#d8576b"
             ],
             [
              0.6666666666666666,
              "#ed7953"
             ],
             [
              0.7777777777777778,
              "#fb9f3a"
             ],
             [
              0.8888888888888888,
              "#fdca26"
             ],
             [
              1,
              "#f0f921"
             ]
            ],
            "type": "surface"
           }
          ],
          "table": [
           {
            "cells": {
             "fill": {
              "color": "#EBF0F8"
             },
             "line": {
              "color": "white"
             }
            },
            "header": {
             "fill": {
              "color": "#C8D4E3"
             },
             "line": {
              "color": "white"
             }
            },
            "type": "table"
           }
          ]
         },
         "layout": {
          "annotationdefaults": {
           "arrowcolor": "#2a3f5f",
           "arrowhead": 0,
           "arrowwidth": 1
          },
          "autotypenumbers": "strict",
          "coloraxis": {
           "colorbar": {
            "outlinewidth": 0,
            "ticks": ""
           }
          },
          "colorscale": {
           "diverging": [
            [
             0,
             "#8e0152"
            ],
            [
             0.1,
             "#c51b7d"
            ],
            [
             0.2,
             "#de77ae"
            ],
            [
             0.3,
             "#f1b6da"
            ],
            [
             0.4,
             "#fde0ef"
            ],
            [
             0.5,
             "#f7f7f7"
            ],
            [
             0.6,
             "#e6f5d0"
            ],
            [
             0.7,
             "#b8e186"
            ],
            [
             0.8,
             "#7fbc41"
            ],
            [
             0.9,
             "#4d9221"
            ],
            [
             1,
             "#276419"
            ]
           ],
           "sequential": [
            [
             0,
             "#0d0887"
            ],
            [
             0.1111111111111111,
             "#46039f"
            ],
            [
             0.2222222222222222,
             "#7201a8"
            ],
            [
             0.3333333333333333,
             "#9c179e"
            ],
            [
             0.4444444444444444,
             "#bd3786"
            ],
            [
             0.5555555555555556,
             "#d8576b"
            ],
            [
             0.6666666666666666,
             "#ed7953"
            ],
            [
             0.7777777777777778,
             "#fb9f3a"
            ],
            [
             0.8888888888888888,
             "#fdca26"
            ],
            [
             1,
             "#f0f921"
            ]
           ],
           "sequentialminus": [
            [
             0,
             "#0d0887"
            ],
            [
             0.1111111111111111,
             "#46039f"
            ],
            [
             0.2222222222222222,
             "#7201a8"
            ],
            [
             0.3333333333333333,
             "#9c179e"
            ],
            [
             0.4444444444444444,
             "#bd3786"
            ],
            [
             0.5555555555555556,
             "#d8576b"
            ],
            [
             0.6666666666666666,
             "#ed7953"
            ],
            [
             0.7777777777777778,
             "#fb9f3a"
            ],
            [
             0.8888888888888888,
             "#fdca26"
            ],
            [
             1,
             "#f0f921"
            ]
           ]
          },
          "colorway": [
           "#636efa",
           "#EF553B",
           "#00cc96",
           "#ab63fa",
           "#FFA15A",
           "#19d3f3",
           "#FF6692",
           "#B6E880",
           "#FF97FF",
           "#FECB52"
          ],
          "font": {
           "color": "#2a3f5f"
          },
          "geo": {
           "bgcolor": "white",
           "lakecolor": "white",
           "landcolor": "#E5ECF6",
           "showlakes": true,
           "showland": true,
           "subunitcolor": "white"
          },
          "hoverlabel": {
           "align": "left"
          },
          "hovermode": "closest",
          "mapbox": {
           "style": "light"
          },
          "paper_bgcolor": "white",
          "plot_bgcolor": "#E5ECF6",
          "polar": {
           "angularaxis": {
            "gridcolor": "white",
            "linecolor": "white",
            "ticks": ""
           },
           "bgcolor": "#E5ECF6",
           "radialaxis": {
            "gridcolor": "white",
            "linecolor": "white",
            "ticks": ""
           }
          },
          "scene": {
           "xaxis": {
            "backgroundcolor": "#E5ECF6",
            "gridcolor": "white",
            "gridwidth": 2,
            "linecolor": "white",
            "showbackground": true,
            "ticks": "",
            "zerolinecolor": "white"
           },
           "yaxis": {
            "backgroundcolor": "#E5ECF6",
            "gridcolor": "white",
            "gridwidth": 2,
            "linecolor": "white",
            "showbackground": true,
            "ticks": "",
            "zerolinecolor": "white"
           },
           "zaxis": {
            "backgroundcolor": "#E5ECF6",
            "gridcolor": "white",
            "gridwidth": 2,
            "linecolor": "white",
            "showbackground": true,
            "ticks": "",
            "zerolinecolor": "white"
           }
          },
          "shapedefaults": {
           "line": {
            "color": "#2a3f5f"
           }
          },
          "ternary": {
           "aaxis": {
            "gridcolor": "white",
            "linecolor": "white",
            "ticks": ""
           },
           "baxis": {
            "gridcolor": "white",
            "linecolor": "white",
            "ticks": ""
           },
           "bgcolor": "#E5ECF6",
           "caxis": {
            "gridcolor": "white",
            "linecolor": "white",
            "ticks": ""
           }
          },
          "title": {
           "x": 0.05
          },
          "xaxis": {
           "automargin": true,
           "gridcolor": "white",
           "linecolor": "white",
           "ticks": "",
           "title": {
            "standoff": 15
           },
           "zerolinecolor": "white",
           "zerolinewidth": 2
          },
          "yaxis": {
           "automargin": true,
           "gridcolor": "white",
           "linecolor": "white",
           "ticks": "",
           "title": {
            "standoff": 15
           },
           "zerolinecolor": "white",
           "zerolinewidth": 2
          }
         }
        },
        "title": {
         "text": "2D Pose Landmarks - Frame 200"
        },
        "xaxis": {
         "anchor": "y",
         "domain": [
          0,
          1
         ],
         "range": [
          0,
          9.6
         ],
         "title": {
          "text": "X"
         }
        },
        "yaxis": {
         "anchor": "x",
         "autorange": "reversed",
         "domain": [
          0,
          1
         ],
         "range": [
          0,
          5.4
         ],
         "title": {
          "text": "Y"
         }
        }
       }
      }
     },
     "metadata": {},
     "output_type": "display_data"
    }
   ],
   "source": [
    "# Reverse y-axis so origin is at top-left (like image space)\n",
    "fig.update_yaxes(autorange=\"reversed\")\n",
    "\n",
    "# Optional: Show landmark IDs\n",
    "fig.update_traces(textposition='top center')\n",
    "\n",
    "fig.show()"
   ]
  },
  {
   "cell_type": "code",
   "execution_count": 26,
   "id": "90196247",
   "metadata": {},
   "outputs": [
    {
     "data": {
      "text/html": [
       "<div>\n",
       "<style scoped>\n",
       "    .dataframe tbody tr th:only-of-type {\n",
       "        vertical-align: middle;\n",
       "    }\n",
       "\n",
       "    .dataframe tbody tr th {\n",
       "        vertical-align: top;\n",
       "    }\n",
       "\n",
       "    .dataframe thead th {\n",
       "        text-align: right;\n",
       "    }\n",
       "</style>\n",
       "<table border=\"1\" class=\"dataframe\">\n",
       "  <thead>\n",
       "    <tr style=\"text-align: right;\">\n",
       "      <th></th>\n",
       "      <th>frame</th>\n",
       "      <th>landmark</th>\n",
       "      <th>x</th>\n",
       "      <th>y</th>\n",
       "      <th>z</th>\n",
       "      <th>visibility</th>\n",
       "      <th>presence</th>\n",
       "    </tr>\n",
       "  </thead>\n",
       "  <tbody>\n",
       "    <tr>\n",
       "      <th>6501</th>\n",
       "      <td>200</td>\n",
       "      <td>0</td>\n",
       "      <td>0.208993</td>\n",
       "      <td>-0.659187</td>\n",
       "      <td>-0.088395</td>\n",
       "      <td>1.000000</td>\n",
       "      <td>0.999998</td>\n",
       "    </tr>\n",
       "    <tr>\n",
       "      <th>6502</th>\n",
       "      <td>200</td>\n",
       "      <td>1</td>\n",
       "      <td>0.175526</td>\n",
       "      <td>-0.692482</td>\n",
       "      <td>-0.074034</td>\n",
       "      <td>1.000000</td>\n",
       "      <td>0.999995</td>\n",
       "    </tr>\n",
       "    <tr>\n",
       "      <th>6503</th>\n",
       "      <td>200</td>\n",
       "      <td>2</td>\n",
       "      <td>0.175967</td>\n",
       "      <td>-0.692563</td>\n",
       "      <td>-0.073281</td>\n",
       "      <td>1.000000</td>\n",
       "      <td>0.999995</td>\n",
       "    </tr>\n",
       "    <tr>\n",
       "      <th>6504</th>\n",
       "      <td>200</td>\n",
       "      <td>3</td>\n",
       "      <td>0.175449</td>\n",
       "      <td>-0.693579</td>\n",
       "      <td>-0.072930</td>\n",
       "      <td>1.000000</td>\n",
       "      <td>0.999994</td>\n",
       "    </tr>\n",
       "    <tr>\n",
       "      <th>6505</th>\n",
       "      <td>200</td>\n",
       "      <td>4</td>\n",
       "      <td>0.168918</td>\n",
       "      <td>-0.684954</td>\n",
       "      <td>-0.103996</td>\n",
       "      <td>1.000000</td>\n",
       "      <td>0.999996</td>\n",
       "    </tr>\n",
       "    <tr>\n",
       "      <th>6506</th>\n",
       "      <td>200</td>\n",
       "      <td>5</td>\n",
       "      <td>0.169667</td>\n",
       "      <td>-0.686000</td>\n",
       "      <td>-0.104513</td>\n",
       "      <td>1.000000</td>\n",
       "      <td>0.999996</td>\n",
       "    </tr>\n",
       "    <tr>\n",
       "      <th>6507</th>\n",
       "      <td>200</td>\n",
       "      <td>6</td>\n",
       "      <td>0.169521</td>\n",
       "      <td>-0.687309</td>\n",
       "      <td>-0.103923</td>\n",
       "      <td>1.000000</td>\n",
       "      <td>0.999996</td>\n",
       "    </tr>\n",
       "    <tr>\n",
       "      <th>6508</th>\n",
       "      <td>200</td>\n",
       "      <td>7</td>\n",
       "      <td>0.089091</td>\n",
       "      <td>-0.667319</td>\n",
       "      <td>0.017234</td>\n",
       "      <td>1.000000</td>\n",
       "      <td>0.999997</td>\n",
       "    </tr>\n",
       "    <tr>\n",
       "      <th>6509</th>\n",
       "      <td>200</td>\n",
       "      <td>8</td>\n",
       "      <td>0.062404</td>\n",
       "      <td>-0.640293</td>\n",
       "      <td>-0.138617</td>\n",
       "      <td>1.000000</td>\n",
       "      <td>0.999998</td>\n",
       "    </tr>\n",
       "    <tr>\n",
       "      <th>6510</th>\n",
       "      <td>200</td>\n",
       "      <td>9</td>\n",
       "      <td>0.186214</td>\n",
       "      <td>-0.631036</td>\n",
       "      <td>-0.054473</td>\n",
       "      <td>1.000000</td>\n",
       "      <td>0.999998</td>\n",
       "    </tr>\n",
       "    <tr>\n",
       "      <th>6511</th>\n",
       "      <td>200</td>\n",
       "      <td>10</td>\n",
       "      <td>0.178250</td>\n",
       "      <td>-0.621940</td>\n",
       "      <td>-0.096516</td>\n",
       "      <td>1.000000</td>\n",
       "      <td>0.999998</td>\n",
       "    </tr>\n",
       "    <tr>\n",
       "      <th>6512</th>\n",
       "      <td>200</td>\n",
       "      <td>11</td>\n",
       "      <td>0.087267</td>\n",
       "      <td>-0.460585</td>\n",
       "      <td>0.136553</td>\n",
       "      <td>0.999989</td>\n",
       "      <td>0.999996</td>\n",
       "    </tr>\n",
       "    <tr>\n",
       "      <th>6513</th>\n",
       "      <td>200</td>\n",
       "      <td>12</td>\n",
       "      <td>0.002929</td>\n",
       "      <td>-0.487262</td>\n",
       "      <td>-0.181218</td>\n",
       "      <td>0.999999</td>\n",
       "      <td>0.999998</td>\n",
       "    </tr>\n",
       "    <tr>\n",
       "      <th>6514</th>\n",
       "      <td>200</td>\n",
       "      <td>13</td>\n",
       "      <td>0.072124</td>\n",
       "      <td>-0.267996</td>\n",
       "      <td>0.235064</td>\n",
       "      <td>0.611748</td>\n",
       "      <td>0.999956</td>\n",
       "    </tr>\n",
       "    <tr>\n",
       "      <th>6515</th>\n",
       "      <td>200</td>\n",
       "      <td>14</td>\n",
       "      <td>-0.188013</td>\n",
       "      <td>-0.320729</td>\n",
       "      <td>-0.287224</td>\n",
       "      <td>0.998070</td>\n",
       "      <td>0.999967</td>\n",
       "    </tr>\n",
       "    <tr>\n",
       "      <th>6516</th>\n",
       "      <td>200</td>\n",
       "      <td>15</td>\n",
       "      <td>0.257304</td>\n",
       "      <td>-0.314224</td>\n",
       "      <td>0.254601</td>\n",
       "      <td>0.919799</td>\n",
       "      <td>0.999995</td>\n",
       "    </tr>\n",
       "    <tr>\n",
       "      <th>6517</th>\n",
       "      <td>200</td>\n",
       "      <td>16</td>\n",
       "      <td>-0.038977</td>\n",
       "      <td>-0.175235</td>\n",
       "      <td>-0.361353</td>\n",
       "      <td>0.990669</td>\n",
       "      <td>0.999974</td>\n",
       "    </tr>\n",
       "    <tr>\n",
       "      <th>6518</th>\n",
       "      <td>200</td>\n",
       "      <td>17</td>\n",
       "      <td>0.291777</td>\n",
       "      <td>-0.318523</td>\n",
       "      <td>0.262223</td>\n",
       "      <td>0.896234</td>\n",
       "      <td>0.999988</td>\n",
       "    </tr>\n",
       "    <tr>\n",
       "      <th>6519</th>\n",
       "      <td>200</td>\n",
       "      <td>18</td>\n",
       "      <td>-0.001019</td>\n",
       "      <td>-0.118787</td>\n",
       "      <td>-0.371245</td>\n",
       "      <td>0.979161</td>\n",
       "      <td>0.999929</td>\n",
       "    </tr>\n",
       "    <tr>\n",
       "      <th>6520</th>\n",
       "      <td>200</td>\n",
       "      <td>19</td>\n",
       "      <td>0.315330</td>\n",
       "      <td>-0.334051</td>\n",
       "      <td>0.250572</td>\n",
       "      <td>0.901066</td>\n",
       "      <td>0.999991</td>\n",
       "    </tr>\n",
       "    <tr>\n",
       "      <th>6521</th>\n",
       "      <td>200</td>\n",
       "      <td>20</td>\n",
       "      <td>0.038276</td>\n",
       "      <td>-0.137268</td>\n",
       "      <td>-0.365475</td>\n",
       "      <td>0.976690</td>\n",
       "      <td>0.999949</td>\n",
       "    </tr>\n",
       "    <tr>\n",
       "      <th>6522</th>\n",
       "      <td>200</td>\n",
       "      <td>21</td>\n",
       "      <td>0.276772</td>\n",
       "      <td>-0.317620</td>\n",
       "      <td>0.248754</td>\n",
       "      <td>0.877939</td>\n",
       "      <td>0.999995</td>\n",
       "    </tr>\n",
       "    <tr>\n",
       "      <th>6523</th>\n",
       "      <td>200</td>\n",
       "      <td>22</td>\n",
       "      <td>-0.012357</td>\n",
       "      <td>-0.168740</td>\n",
       "      <td>-0.356723</td>\n",
       "      <td>0.964556</td>\n",
       "      <td>0.999967</td>\n",
       "    </tr>\n",
       "    <tr>\n",
       "      <th>6524</th>\n",
       "      <td>200</td>\n",
       "      <td>23</td>\n",
       "      <td>-0.005938</td>\n",
       "      <td>0.001788</td>\n",
       "      <td>0.108369</td>\n",
       "      <td>0.999952</td>\n",
       "      <td>0.999997</td>\n",
       "    </tr>\n",
       "    <tr>\n",
       "      <th>6525</th>\n",
       "      <td>200</td>\n",
       "      <td>24</td>\n",
       "      <td>0.005428</td>\n",
       "      <td>-0.002791</td>\n",
       "      <td>-0.107103</td>\n",
       "      <td>0.999962</td>\n",
       "      <td>0.999997</td>\n",
       "    </tr>\n",
       "    <tr>\n",
       "      <th>6526</th>\n",
       "      <td>200</td>\n",
       "      <td>25</td>\n",
       "      <td>-0.232454</td>\n",
       "      <td>0.339684</td>\n",
       "      <td>0.087231</td>\n",
       "      <td>0.952357</td>\n",
       "      <td>0.999987</td>\n",
       "    </tr>\n",
       "    <tr>\n",
       "      <th>6527</th>\n",
       "      <td>200</td>\n",
       "      <td>26</td>\n",
       "      <td>0.281374</td>\n",
       "      <td>0.217398</td>\n",
       "      <td>-0.026167</td>\n",
       "      <td>0.993225</td>\n",
       "      <td>0.999971</td>\n",
       "    </tr>\n",
       "    <tr>\n",
       "      <th>6528</th>\n",
       "      <td>200</td>\n",
       "      <td>27</td>\n",
       "      <td>-0.534199</td>\n",
       "      <td>0.531780</td>\n",
       "      <td>0.061990</td>\n",
       "      <td>0.982912</td>\n",
       "      <td>0.999950</td>\n",
       "    </tr>\n",
       "    <tr>\n",
       "      <th>6529</th>\n",
       "      <td>200</td>\n",
       "      <td>28</td>\n",
       "      <td>0.188465</td>\n",
       "      <td>0.541575</td>\n",
       "      <td>0.045154</td>\n",
       "      <td>0.994774</td>\n",
       "      <td>0.999892</td>\n",
       "    </tr>\n",
       "    <tr>\n",
       "      <th>6530</th>\n",
       "      <td>200</td>\n",
       "      <td>29</td>\n",
       "      <td>-0.559730</td>\n",
       "      <td>0.559250</td>\n",
       "      <td>0.057712</td>\n",
       "      <td>0.987651</td>\n",
       "      <td>0.999871</td>\n",
       "    </tr>\n",
       "    <tr>\n",
       "      <th>6531</th>\n",
       "      <td>200</td>\n",
       "      <td>30</td>\n",
       "      <td>0.177873</td>\n",
       "      <td>0.580446</td>\n",
       "      <td>0.053483</td>\n",
       "      <td>0.989475</td>\n",
       "      <td>0.999851</td>\n",
       "    </tr>\n",
       "    <tr>\n",
       "      <th>6532</th>\n",
       "      <td>200</td>\n",
       "      <td>31</td>\n",
       "      <td>-0.517978</td>\n",
       "      <td>0.639435</td>\n",
       "      <td>0.043052</td>\n",
       "      <td>0.975455</td>\n",
       "      <td>0.999588</td>\n",
       "    </tr>\n",
       "    <tr>\n",
       "      <th>6533</th>\n",
       "      <td>200</td>\n",
       "      <td>32</td>\n",
       "      <td>0.279911</td>\n",
       "      <td>0.647337</td>\n",
       "      <td>0.060230</td>\n",
       "      <td>0.989139</td>\n",
       "      <td>0.999469</td>\n",
       "    </tr>\n",
       "  </tbody>\n",
       "</table>\n",
       "</div>"
      ],
      "text/plain": [
       "      frame  landmark         x         y         z  visibility  presence\n",
       "6501    200         0  0.208993 -0.659187 -0.088395    1.000000  0.999998\n",
       "6502    200         1  0.175526 -0.692482 -0.074034    1.000000  0.999995\n",
       "6503    200         2  0.175967 -0.692563 -0.073281    1.000000  0.999995\n",
       "6504    200         3  0.175449 -0.693579 -0.072930    1.000000  0.999994\n",
       "6505    200         4  0.168918 -0.684954 -0.103996    1.000000  0.999996\n",
       "6506    200         5  0.169667 -0.686000 -0.104513    1.000000  0.999996\n",
       "6507    200         6  0.169521 -0.687309 -0.103923    1.000000  0.999996\n",
       "6508    200         7  0.089091 -0.667319  0.017234    1.000000  0.999997\n",
       "6509    200         8  0.062404 -0.640293 -0.138617    1.000000  0.999998\n",
       "6510    200         9  0.186214 -0.631036 -0.054473    1.000000  0.999998\n",
       "6511    200        10  0.178250 -0.621940 -0.096516    1.000000  0.999998\n",
       "6512    200        11  0.087267 -0.460585  0.136553    0.999989  0.999996\n",
       "6513    200        12  0.002929 -0.487262 -0.181218    0.999999  0.999998\n",
       "6514    200        13  0.072124 -0.267996  0.235064    0.611748  0.999956\n",
       "6515    200        14 -0.188013 -0.320729 -0.287224    0.998070  0.999967\n",
       "6516    200        15  0.257304 -0.314224  0.254601    0.919799  0.999995\n",
       "6517    200        16 -0.038977 -0.175235 -0.361353    0.990669  0.999974\n",
       "6518    200        17  0.291777 -0.318523  0.262223    0.896234  0.999988\n",
       "6519    200        18 -0.001019 -0.118787 -0.371245    0.979161  0.999929\n",
       "6520    200        19  0.315330 -0.334051  0.250572    0.901066  0.999991\n",
       "6521    200        20  0.038276 -0.137268 -0.365475    0.976690  0.999949\n",
       "6522    200        21  0.276772 -0.317620  0.248754    0.877939  0.999995\n",
       "6523    200        22 -0.012357 -0.168740 -0.356723    0.964556  0.999967\n",
       "6524    200        23 -0.005938  0.001788  0.108369    0.999952  0.999997\n",
       "6525    200        24  0.005428 -0.002791 -0.107103    0.999962  0.999997\n",
       "6526    200        25 -0.232454  0.339684  0.087231    0.952357  0.999987\n",
       "6527    200        26  0.281374  0.217398 -0.026167    0.993225  0.999971\n",
       "6528    200        27 -0.534199  0.531780  0.061990    0.982912  0.999950\n",
       "6529    200        28  0.188465  0.541575  0.045154    0.994774  0.999892\n",
       "6530    200        29 -0.559730  0.559250  0.057712    0.987651  0.999871\n",
       "6531    200        30  0.177873  0.580446  0.053483    0.989475  0.999851\n",
       "6532    200        31 -0.517978  0.639435  0.043052    0.975455  0.999588\n",
       "6533    200        32  0.279911  0.647337  0.060230    0.989139  0.999469"
      ]
     },
     "execution_count": 26,
     "metadata": {},
     "output_type": "execute_result"
    }
   ],
   "source": [
    "df3d=pd.read_csv(\"video1_3d.csv\")\n",
    "\n",
    "frame3d_df = df3d[df3d['frame'] == frame_id]\n",
    "frame3d_df\n",
    "\n"
   ]
  },
  {
   "cell_type": "code",
   "execution_count": 27,
   "id": "2b1f4544",
   "metadata": {},
   "outputs": [
    {
     "name": "stderr",
     "output_type": "stream",
     "text": [
      "C:\\Users\\ananj\\AppData\\Local\\Temp\\ipykernel_844\\1007785925.py:1: SettingWithCopyWarning:\n",
      "\n",
      "\n",
      "A value is trying to be set on a copy of a slice from a DataFrame.\n",
      "Try using .loc[row_indexer,col_indexer] = value instead\n",
      "\n",
      "See the caveats in the documentation: https://pandas.pydata.org/pandas-docs/stable/user_guide/indexing.html#returning-a-view-versus-a-copy\n",
      "\n"
     ]
    },
    {
     "data": {
      "text/html": [
       "<div>\n",
       "<style scoped>\n",
       "    .dataframe tbody tr th:only-of-type {\n",
       "        vertical-align: middle;\n",
       "    }\n",
       "\n",
       "    .dataframe tbody tr th {\n",
       "        vertical-align: top;\n",
       "    }\n",
       "\n",
       "    .dataframe thead th {\n",
       "        text-align: right;\n",
       "    }\n",
       "</style>\n",
       "<table border=\"1\" class=\"dataframe\">\n",
       "  <thead>\n",
       "    <tr style=\"text-align: right;\">\n",
       "      <th></th>\n",
       "      <th>frame</th>\n",
       "      <th>landmark</th>\n",
       "      <th>x</th>\n",
       "      <th>y</th>\n",
       "      <th>z</th>\n",
       "      <th>visibility</th>\n",
       "      <th>presence</th>\n",
       "    </tr>\n",
       "  </thead>\n",
       "  <tbody>\n",
       "    <tr>\n",
       "      <th>6501</th>\n",
       "      <td>200</td>\n",
       "      <td>0</td>\n",
       "      <td>0.208993</td>\n",
       "      <td>0.659187</td>\n",
       "      <td>-0.088395</td>\n",
       "      <td>1.000000</td>\n",
       "      <td>0.999998</td>\n",
       "    </tr>\n",
       "    <tr>\n",
       "      <th>6502</th>\n",
       "      <td>200</td>\n",
       "      <td>1</td>\n",
       "      <td>0.175526</td>\n",
       "      <td>0.692482</td>\n",
       "      <td>-0.074034</td>\n",
       "      <td>1.000000</td>\n",
       "      <td>0.999995</td>\n",
       "    </tr>\n",
       "    <tr>\n",
       "      <th>6503</th>\n",
       "      <td>200</td>\n",
       "      <td>2</td>\n",
       "      <td>0.175967</td>\n",
       "      <td>0.692563</td>\n",
       "      <td>-0.073281</td>\n",
       "      <td>1.000000</td>\n",
       "      <td>0.999995</td>\n",
       "    </tr>\n",
       "    <tr>\n",
       "      <th>6504</th>\n",
       "      <td>200</td>\n",
       "      <td>3</td>\n",
       "      <td>0.175449</td>\n",
       "      <td>0.693579</td>\n",
       "      <td>-0.072930</td>\n",
       "      <td>1.000000</td>\n",
       "      <td>0.999994</td>\n",
       "    </tr>\n",
       "    <tr>\n",
       "      <th>6505</th>\n",
       "      <td>200</td>\n",
       "      <td>4</td>\n",
       "      <td>0.168918</td>\n",
       "      <td>0.684954</td>\n",
       "      <td>-0.103996</td>\n",
       "      <td>1.000000</td>\n",
       "      <td>0.999996</td>\n",
       "    </tr>\n",
       "    <tr>\n",
       "      <th>6506</th>\n",
       "      <td>200</td>\n",
       "      <td>5</td>\n",
       "      <td>0.169667</td>\n",
       "      <td>0.686000</td>\n",
       "      <td>-0.104513</td>\n",
       "      <td>1.000000</td>\n",
       "      <td>0.999996</td>\n",
       "    </tr>\n",
       "    <tr>\n",
       "      <th>6507</th>\n",
       "      <td>200</td>\n",
       "      <td>6</td>\n",
       "      <td>0.169521</td>\n",
       "      <td>0.687309</td>\n",
       "      <td>-0.103923</td>\n",
       "      <td>1.000000</td>\n",
       "      <td>0.999996</td>\n",
       "    </tr>\n",
       "    <tr>\n",
       "      <th>6508</th>\n",
       "      <td>200</td>\n",
       "      <td>7</td>\n",
       "      <td>0.089091</td>\n",
       "      <td>0.667319</td>\n",
       "      <td>0.017234</td>\n",
       "      <td>1.000000</td>\n",
       "      <td>0.999997</td>\n",
       "    </tr>\n",
       "    <tr>\n",
       "      <th>6509</th>\n",
       "      <td>200</td>\n",
       "      <td>8</td>\n",
       "      <td>0.062404</td>\n",
       "      <td>0.640293</td>\n",
       "      <td>-0.138617</td>\n",
       "      <td>1.000000</td>\n",
       "      <td>0.999998</td>\n",
       "    </tr>\n",
       "    <tr>\n",
       "      <th>6510</th>\n",
       "      <td>200</td>\n",
       "      <td>9</td>\n",
       "      <td>0.186214</td>\n",
       "      <td>0.631036</td>\n",
       "      <td>-0.054473</td>\n",
       "      <td>1.000000</td>\n",
       "      <td>0.999998</td>\n",
       "    </tr>\n",
       "    <tr>\n",
       "      <th>6511</th>\n",
       "      <td>200</td>\n",
       "      <td>10</td>\n",
       "      <td>0.178250</td>\n",
       "      <td>0.621940</td>\n",
       "      <td>-0.096516</td>\n",
       "      <td>1.000000</td>\n",
       "      <td>0.999998</td>\n",
       "    </tr>\n",
       "    <tr>\n",
       "      <th>6512</th>\n",
       "      <td>200</td>\n",
       "      <td>11</td>\n",
       "      <td>0.087267</td>\n",
       "      <td>0.460585</td>\n",
       "      <td>0.136553</td>\n",
       "      <td>0.999989</td>\n",
       "      <td>0.999996</td>\n",
       "    </tr>\n",
       "    <tr>\n",
       "      <th>6513</th>\n",
       "      <td>200</td>\n",
       "      <td>12</td>\n",
       "      <td>0.002929</td>\n",
       "      <td>0.487262</td>\n",
       "      <td>-0.181218</td>\n",
       "      <td>0.999999</td>\n",
       "      <td>0.999998</td>\n",
       "    </tr>\n",
       "    <tr>\n",
       "      <th>6514</th>\n",
       "      <td>200</td>\n",
       "      <td>13</td>\n",
       "      <td>0.072124</td>\n",
       "      <td>0.267996</td>\n",
       "      <td>0.235064</td>\n",
       "      <td>0.611748</td>\n",
       "      <td>0.999956</td>\n",
       "    </tr>\n",
       "    <tr>\n",
       "      <th>6515</th>\n",
       "      <td>200</td>\n",
       "      <td>14</td>\n",
       "      <td>-0.188013</td>\n",
       "      <td>0.320729</td>\n",
       "      <td>-0.287224</td>\n",
       "      <td>0.998070</td>\n",
       "      <td>0.999967</td>\n",
       "    </tr>\n",
       "    <tr>\n",
       "      <th>6516</th>\n",
       "      <td>200</td>\n",
       "      <td>15</td>\n",
       "      <td>0.257304</td>\n",
       "      <td>0.314224</td>\n",
       "      <td>0.254601</td>\n",
       "      <td>0.919799</td>\n",
       "      <td>0.999995</td>\n",
       "    </tr>\n",
       "    <tr>\n",
       "      <th>6517</th>\n",
       "      <td>200</td>\n",
       "      <td>16</td>\n",
       "      <td>-0.038977</td>\n",
       "      <td>0.175235</td>\n",
       "      <td>-0.361353</td>\n",
       "      <td>0.990669</td>\n",
       "      <td>0.999974</td>\n",
       "    </tr>\n",
       "    <tr>\n",
       "      <th>6518</th>\n",
       "      <td>200</td>\n",
       "      <td>17</td>\n",
       "      <td>0.291777</td>\n",
       "      <td>0.318523</td>\n",
       "      <td>0.262223</td>\n",
       "      <td>0.896234</td>\n",
       "      <td>0.999988</td>\n",
       "    </tr>\n",
       "    <tr>\n",
       "      <th>6519</th>\n",
       "      <td>200</td>\n",
       "      <td>18</td>\n",
       "      <td>-0.001019</td>\n",
       "      <td>0.118787</td>\n",
       "      <td>-0.371245</td>\n",
       "      <td>0.979161</td>\n",
       "      <td>0.999929</td>\n",
       "    </tr>\n",
       "    <tr>\n",
       "      <th>6520</th>\n",
       "      <td>200</td>\n",
       "      <td>19</td>\n",
       "      <td>0.315330</td>\n",
       "      <td>0.334051</td>\n",
       "      <td>0.250572</td>\n",
       "      <td>0.901066</td>\n",
       "      <td>0.999991</td>\n",
       "    </tr>\n",
       "    <tr>\n",
       "      <th>6521</th>\n",
       "      <td>200</td>\n",
       "      <td>20</td>\n",
       "      <td>0.038276</td>\n",
       "      <td>0.137268</td>\n",
       "      <td>-0.365475</td>\n",
       "      <td>0.976690</td>\n",
       "      <td>0.999949</td>\n",
       "    </tr>\n",
       "    <tr>\n",
       "      <th>6522</th>\n",
       "      <td>200</td>\n",
       "      <td>21</td>\n",
       "      <td>0.276772</td>\n",
       "      <td>0.317620</td>\n",
       "      <td>0.248754</td>\n",
       "      <td>0.877939</td>\n",
       "      <td>0.999995</td>\n",
       "    </tr>\n",
       "    <tr>\n",
       "      <th>6523</th>\n",
       "      <td>200</td>\n",
       "      <td>22</td>\n",
       "      <td>-0.012357</td>\n",
       "      <td>0.168740</td>\n",
       "      <td>-0.356723</td>\n",
       "      <td>0.964556</td>\n",
       "      <td>0.999967</td>\n",
       "    </tr>\n",
       "    <tr>\n",
       "      <th>6524</th>\n",
       "      <td>200</td>\n",
       "      <td>23</td>\n",
       "      <td>-0.005938</td>\n",
       "      <td>-0.001788</td>\n",
       "      <td>0.108369</td>\n",
       "      <td>0.999952</td>\n",
       "      <td>0.999997</td>\n",
       "    </tr>\n",
       "    <tr>\n",
       "      <th>6525</th>\n",
       "      <td>200</td>\n",
       "      <td>24</td>\n",
       "      <td>0.005428</td>\n",
       "      <td>0.002791</td>\n",
       "      <td>-0.107103</td>\n",
       "      <td>0.999962</td>\n",
       "      <td>0.999997</td>\n",
       "    </tr>\n",
       "    <tr>\n",
       "      <th>6526</th>\n",
       "      <td>200</td>\n",
       "      <td>25</td>\n",
       "      <td>-0.232454</td>\n",
       "      <td>-0.339684</td>\n",
       "      <td>0.087231</td>\n",
       "      <td>0.952357</td>\n",
       "      <td>0.999987</td>\n",
       "    </tr>\n",
       "    <tr>\n",
       "      <th>6527</th>\n",
       "      <td>200</td>\n",
       "      <td>26</td>\n",
       "      <td>0.281374</td>\n",
       "      <td>-0.217398</td>\n",
       "      <td>-0.026167</td>\n",
       "      <td>0.993225</td>\n",
       "      <td>0.999971</td>\n",
       "    </tr>\n",
       "    <tr>\n",
       "      <th>6528</th>\n",
       "      <td>200</td>\n",
       "      <td>27</td>\n",
       "      <td>-0.534199</td>\n",
       "      <td>-0.531780</td>\n",
       "      <td>0.061990</td>\n",
       "      <td>0.982912</td>\n",
       "      <td>0.999950</td>\n",
       "    </tr>\n",
       "    <tr>\n",
       "      <th>6529</th>\n",
       "      <td>200</td>\n",
       "      <td>28</td>\n",
       "      <td>0.188465</td>\n",
       "      <td>-0.541575</td>\n",
       "      <td>0.045154</td>\n",
       "      <td>0.994774</td>\n",
       "      <td>0.999892</td>\n",
       "    </tr>\n",
       "    <tr>\n",
       "      <th>6530</th>\n",
       "      <td>200</td>\n",
       "      <td>29</td>\n",
       "      <td>-0.559730</td>\n",
       "      <td>-0.559250</td>\n",
       "      <td>0.057712</td>\n",
       "      <td>0.987651</td>\n",
       "      <td>0.999871</td>\n",
       "    </tr>\n",
       "    <tr>\n",
       "      <th>6531</th>\n",
       "      <td>200</td>\n",
       "      <td>30</td>\n",
       "      <td>0.177873</td>\n",
       "      <td>-0.580446</td>\n",
       "      <td>0.053483</td>\n",
       "      <td>0.989475</td>\n",
       "      <td>0.999851</td>\n",
       "    </tr>\n",
       "    <tr>\n",
       "      <th>6532</th>\n",
       "      <td>200</td>\n",
       "      <td>31</td>\n",
       "      <td>-0.517978</td>\n",
       "      <td>-0.639435</td>\n",
       "      <td>0.043052</td>\n",
       "      <td>0.975455</td>\n",
       "      <td>0.999588</td>\n",
       "    </tr>\n",
       "    <tr>\n",
       "      <th>6533</th>\n",
       "      <td>200</td>\n",
       "      <td>32</td>\n",
       "      <td>0.279911</td>\n",
       "      <td>-0.647337</td>\n",
       "      <td>0.060230</td>\n",
       "      <td>0.989139</td>\n",
       "      <td>0.999469</td>\n",
       "    </tr>\n",
       "  </tbody>\n",
       "</table>\n",
       "</div>"
      ],
      "text/plain": [
       "      frame  landmark         x         y         z  visibility  presence\n",
       "6501    200         0  0.208993  0.659187 -0.088395    1.000000  0.999998\n",
       "6502    200         1  0.175526  0.692482 -0.074034    1.000000  0.999995\n",
       "6503    200         2  0.175967  0.692563 -0.073281    1.000000  0.999995\n",
       "6504    200         3  0.175449  0.693579 -0.072930    1.000000  0.999994\n",
       "6505    200         4  0.168918  0.684954 -0.103996    1.000000  0.999996\n",
       "6506    200         5  0.169667  0.686000 -0.104513    1.000000  0.999996\n",
       "6507    200         6  0.169521  0.687309 -0.103923    1.000000  0.999996\n",
       "6508    200         7  0.089091  0.667319  0.017234    1.000000  0.999997\n",
       "6509    200         8  0.062404  0.640293 -0.138617    1.000000  0.999998\n",
       "6510    200         9  0.186214  0.631036 -0.054473    1.000000  0.999998\n",
       "6511    200        10  0.178250  0.621940 -0.096516    1.000000  0.999998\n",
       "6512    200        11  0.087267  0.460585  0.136553    0.999989  0.999996\n",
       "6513    200        12  0.002929  0.487262 -0.181218    0.999999  0.999998\n",
       "6514    200        13  0.072124  0.267996  0.235064    0.611748  0.999956\n",
       "6515    200        14 -0.188013  0.320729 -0.287224    0.998070  0.999967\n",
       "6516    200        15  0.257304  0.314224  0.254601    0.919799  0.999995\n",
       "6517    200        16 -0.038977  0.175235 -0.361353    0.990669  0.999974\n",
       "6518    200        17  0.291777  0.318523  0.262223    0.896234  0.999988\n",
       "6519    200        18 -0.001019  0.118787 -0.371245    0.979161  0.999929\n",
       "6520    200        19  0.315330  0.334051  0.250572    0.901066  0.999991\n",
       "6521    200        20  0.038276  0.137268 -0.365475    0.976690  0.999949\n",
       "6522    200        21  0.276772  0.317620  0.248754    0.877939  0.999995\n",
       "6523    200        22 -0.012357  0.168740 -0.356723    0.964556  0.999967\n",
       "6524    200        23 -0.005938 -0.001788  0.108369    0.999952  0.999997\n",
       "6525    200        24  0.005428  0.002791 -0.107103    0.999962  0.999997\n",
       "6526    200        25 -0.232454 -0.339684  0.087231    0.952357  0.999987\n",
       "6527    200        26  0.281374 -0.217398 -0.026167    0.993225  0.999971\n",
       "6528    200        27 -0.534199 -0.531780  0.061990    0.982912  0.999950\n",
       "6529    200        28  0.188465 -0.541575  0.045154    0.994774  0.999892\n",
       "6530    200        29 -0.559730 -0.559250  0.057712    0.987651  0.999871\n",
       "6531    200        30  0.177873 -0.580446  0.053483    0.989475  0.999851\n",
       "6532    200        31 -0.517978 -0.639435  0.043052    0.975455  0.999588\n",
       "6533    200        32  0.279911 -0.647337  0.060230    0.989139  0.999469"
      ]
     },
     "execution_count": 27,
     "metadata": {},
     "output_type": "execute_result"
    }
   ],
   "source": [
    "frame3d_df['y']*=(-1)\n",
    "frame3d_df"
   ]
  },
  {
   "cell_type": "code",
   "execution_count": 28,
   "id": "af7117c5",
   "metadata": {},
   "outputs": [
    {
     "data": {
      "application/vnd.plotly.v1+json": {
       "config": {
        "plotlyServerURL": "https://plot.ly"
       },
       "data": [
        {
         "hovertemplate": "Z=%{x}<br>X=%{y}<br>Y=%{z}<br>landmark=%{text}<extra></extra>",
         "legendgroup": "",
         "marker": {
          "color": "#636efa",
          "symbol": "circle"
         },
         "mode": "markers+text",
         "name": "",
         "scene": "scene",
         "showlegend": false,
         "text": {
          "bdata": "AAAAAAAAAAAAAAAAAADwPwAAAAAAAABAAAAAAAAACEAAAAAAAAAQQAAAAAAAABRAAAAAAAAAGEAAAAAAAAAcQAAAAAAAACBAAAAAAAAAIkAAAAAAAAAkQAAAAAAAACZAAAAAAAAAKEAAAAAAAAAqQAAAAAAAACxAAAAAAAAALkAAAAAAAAAwQAAAAAAAADFAAAAAAAAAMkAAAAAAAAAzQAAAAAAAADRAAAAAAAAANUAAAAAAAAA2QAAAAAAAADdAAAAAAAAAOEAAAAAAAAA5QAAAAAAAADpAAAAAAAAAO0AAAAAAAAA8QAAAAAAAAD1AAAAAAAAAPkAAAAAAAAA/QAAAAAAAAEBA",
          "dtype": "f8"
         },
         "type": "scatter3d",
         "x": {
          "bdata": "+f//fwihtr/7//+/6POyv/r//7+OwrK//v//X42rsr/9//9ffJ+6v/////9Ywbq/AAAA4Lqaur/k////16WRP/7//381vsG//f//39Xjq7////9fRLW4v/7//1+TesE/////3ycyx7/+////lhbOP////9/gYdK/AAAAgGNL0D8AAADgZyDXv////59EyNA/AAAA4HvC178AAACgXQnQP////1/vY9e//v//vy/Xzz8AAAAgi9TWv/v//78Vvrs//////xtru7/9//9fxVS2P+j//39wy5q//v//nzO9rz/5////dR6nP/P//19ijK0/8///Hxliqz/1//8/3QqmP/j//1911q4/",
          "dtype": "f8"
         },
         "y": {
          "bdata": "/f//v0vAyj/+//9fpXfGPwAAAIAWhsY/AAAAgB51xj8AAACAGp/FP////z+kt8U/////39qyxT/6//8/r862P/n///9p868//f///9/Vxz8AAABg6dDGP/7//z8jV7Y/0v///1/+Zz/8//+/uHayP////7/OEMi/////P6p30D/6//+fv/Sjv////z97rNI/Sf///2OyUL8AAACgXi7UP/T//z/tmKM/AAAAwKO20T/7//8/h06Jv6X//19/Uni/r///Hzg7dj////9/D8HNvwAAACAIAtI/AAAAACgY4b8AAABAnB/IPwAAAKBP6eG//v//X43Exj8AAADgRpPgv////58O6tE/",
          "dtype": "f8"
         },
         "z": {
          "bdata": "AAAAwA8Y5T8AAABA0CjmPwAAAMB5KeY/AAAAgMwx5j8AAAAgJOvlPwAAAKC18+U/AAAAwG/+5T8AAACArFrlPwAAAKBHfeQ/AAAAgHEx5D8AAABA7+bjP////386et0/AAAAgE4v3z8AAAAg2SbRPwAAACDShtQ/////fz4c1D8AAACAFm7GPwAAAOCsYtQ/+///P9Bovj8AAAAgF2HVP/7//x//kcE/AAAAgORT1D8AAABAR5nFP3n//z+XTF2/WP//fzfdZj/////fX73VvwAAAACx08u/AAAAYFgE4b8AAACAlFThvwAAAEBh5eG/AAAAgAST4r8AAADAQHbkvwAAAMD8tuS/",
          "dtype": "f8"
         }
        }
       ],
       "layout": {
        "legend": {
         "tracegroupgap": 0
        },
        "scene": {
         "domain": {
          "x": [
           0,
           1
          ],
          "y": [
           0,
           1
          ]
         },
         "xaxis": {
          "title": {
           "text": "Z"
          }
         },
         "yaxis": {
          "title": {
           "text": "X"
          }
         },
         "zaxis": {
          "title": {
           "text": "Y"
          }
         }
        },
        "template": {
         "data": {
          "bar": [
           {
            "error_x": {
             "color": "#2a3f5f"
            },
            "error_y": {
             "color": "#2a3f5f"
            },
            "marker": {
             "line": {
              "color": "#E5ECF6",
              "width": 0.5
             },
             "pattern": {
              "fillmode": "overlay",
              "size": 10,
              "solidity": 0.2
             }
            },
            "type": "bar"
           }
          ],
          "barpolar": [
           {
            "marker": {
             "line": {
              "color": "#E5ECF6",
              "width": 0.5
             },
             "pattern": {
              "fillmode": "overlay",
              "size": 10,
              "solidity": 0.2
             }
            },
            "type": "barpolar"
           }
          ],
          "carpet": [
           {
            "aaxis": {
             "endlinecolor": "#2a3f5f",
             "gridcolor": "white",
             "linecolor": "white",
             "minorgridcolor": "white",
             "startlinecolor": "#2a3f5f"
            },
            "baxis": {
             "endlinecolor": "#2a3f5f",
             "gridcolor": "white",
             "linecolor": "white",
             "minorgridcolor": "white",
             "startlinecolor": "#2a3f5f"
            },
            "type": "carpet"
           }
          ],
          "choropleth": [
           {
            "colorbar": {
             "outlinewidth": 0,
             "ticks": ""
            },
            "type": "choropleth"
           }
          ],
          "contour": [
           {
            "colorbar": {
             "outlinewidth": 0,
             "ticks": ""
            },
            "colorscale": [
             [
              0,
              "#0d0887"
             ],
             [
              0.1111111111111111,
              "#46039f"
             ],
             [
              0.2222222222222222,
              "#7201a8"
             ],
             [
              0.3333333333333333,
              "#9c179e"
             ],
             [
              0.4444444444444444,
              "#bd3786"
             ],
             [
              0.5555555555555556,
              "#d8576b"
             ],
             [
              0.6666666666666666,
              "#ed7953"
             ],
             [
              0.7777777777777778,
              "#fb9f3a"
             ],
             [
              0.8888888888888888,
              "#fdca26"
             ],
             [
              1,
              "#f0f921"
             ]
            ],
            "type": "contour"
           }
          ],
          "contourcarpet": [
           {
            "colorbar": {
             "outlinewidth": 0,
             "ticks": ""
            },
            "type": "contourcarpet"
           }
          ],
          "heatmap": [
           {
            "colorbar": {
             "outlinewidth": 0,
             "ticks": ""
            },
            "colorscale": [
             [
              0,
              "#0d0887"
             ],
             [
              0.1111111111111111,
              "#46039f"
             ],
             [
              0.2222222222222222,
              "#7201a8"
             ],
             [
              0.3333333333333333,
              "#9c179e"
             ],
             [
              0.4444444444444444,
              "#bd3786"
             ],
             [
              0.5555555555555556,
              "#d8576b"
             ],
             [
              0.6666666666666666,
              "#ed7953"
             ],
             [
              0.7777777777777778,
              "#fb9f3a"
             ],
             [
              0.8888888888888888,
              "#fdca26"
             ],
             [
              1,
              "#f0f921"
             ]
            ],
            "type": "heatmap"
           }
          ],
          "histogram": [
           {
            "marker": {
             "pattern": {
              "fillmode": "overlay",
              "size": 10,
              "solidity": 0.2
             }
            },
            "type": "histogram"
           }
          ],
          "histogram2d": [
           {
            "colorbar": {
             "outlinewidth": 0,
             "ticks": ""
            },
            "colorscale": [
             [
              0,
              "#0d0887"
             ],
             [
              0.1111111111111111,
              "#46039f"
             ],
             [
              0.2222222222222222,
              "#7201a8"
             ],
             [
              0.3333333333333333,
              "#9c179e"
             ],
             [
              0.4444444444444444,
              "#bd3786"
             ],
             [
              0.5555555555555556,
              "#d8576b"
             ],
             [
              0.6666666666666666,
              "#ed7953"
             ],
             [
              0.7777777777777778,
              "#fb9f3a"
             ],
             [
              0.8888888888888888,
              "#fdca26"
             ],
             [
              1,
              "#f0f921"
             ]
            ],
            "type": "histogram2d"
           }
          ],
          "histogram2dcontour": [
           {
            "colorbar": {
             "outlinewidth": 0,
             "ticks": ""
            },
            "colorscale": [
             [
              0,
              "#0d0887"
             ],
             [
              0.1111111111111111,
              "#46039f"
             ],
             [
              0.2222222222222222,
              "#7201a8"
             ],
             [
              0.3333333333333333,
              "#9c179e"
             ],
             [
              0.4444444444444444,
              "#bd3786"
             ],
             [
              0.5555555555555556,
              "#d8576b"
             ],
             [
              0.6666666666666666,
              "#ed7953"
             ],
             [
              0.7777777777777778,
              "#fb9f3a"
             ],
             [
              0.8888888888888888,
              "#fdca26"
             ],
             [
              1,
              "#f0f921"
             ]
            ],
            "type": "histogram2dcontour"
           }
          ],
          "mesh3d": [
           {
            "colorbar": {
             "outlinewidth": 0,
             "ticks": ""
            },
            "type": "mesh3d"
           }
          ],
          "parcoords": [
           {
            "line": {
             "colorbar": {
              "outlinewidth": 0,
              "ticks": ""
             }
            },
            "type": "parcoords"
           }
          ],
          "pie": [
           {
            "automargin": true,
            "type": "pie"
           }
          ],
          "scatter": [
           {
            "fillpattern": {
             "fillmode": "overlay",
             "size": 10,
             "solidity": 0.2
            },
            "type": "scatter"
           }
          ],
          "scatter3d": [
           {
            "line": {
             "colorbar": {
              "outlinewidth": 0,
              "ticks": ""
             }
            },
            "marker": {
             "colorbar": {
              "outlinewidth": 0,
              "ticks": ""
             }
            },
            "type": "scatter3d"
           }
          ],
          "scattercarpet": [
           {
            "marker": {
             "colorbar": {
              "outlinewidth": 0,
              "ticks": ""
             }
            },
            "type": "scattercarpet"
           }
          ],
          "scattergeo": [
           {
            "marker": {
             "colorbar": {
              "outlinewidth": 0,
              "ticks": ""
             }
            },
            "type": "scattergeo"
           }
          ],
          "scattergl": [
           {
            "marker": {
             "colorbar": {
              "outlinewidth": 0,
              "ticks": ""
             }
            },
            "type": "scattergl"
           }
          ],
          "scattermap": [
           {
            "marker": {
             "colorbar": {
              "outlinewidth": 0,
              "ticks": ""
             }
            },
            "type": "scattermap"
           }
          ],
          "scattermapbox": [
           {
            "marker": {
             "colorbar": {
              "outlinewidth": 0,
              "ticks": ""
             }
            },
            "type": "scattermapbox"
           }
          ],
          "scatterpolar": [
           {
            "marker": {
             "colorbar": {
              "outlinewidth": 0,
              "ticks": ""
             }
            },
            "type": "scatterpolar"
           }
          ],
          "scatterpolargl": [
           {
            "marker": {
             "colorbar": {
              "outlinewidth": 0,
              "ticks": ""
             }
            },
            "type": "scatterpolargl"
           }
          ],
          "scatterternary": [
           {
            "marker": {
             "colorbar": {
              "outlinewidth": 0,
              "ticks": ""
             }
            },
            "type": "scatterternary"
           }
          ],
          "surface": [
           {
            "colorbar": {
             "outlinewidth": 0,
             "ticks": ""
            },
            "colorscale": [
             [
              0,
              "#0d0887"
             ],
             [
              0.1111111111111111,
              "#46039f"
             ],
             [
              0.2222222222222222,
              "#7201a8"
             ],
             [
              0.3333333333333333,
              "#9c179e"
             ],
             [
              0.4444444444444444,
              "#bd3786"
             ],
             [
              0.5555555555555556,
              "#d8576b"
             ],
             [
              0.6666666666666666,
              "#ed7953"
             ],
             [
              0.7777777777777778,
              "#fb9f3a"
             ],
             [
              0.8888888888888888,
              "#fdca26"
             ],
             [
              1,
              "#f0f921"
             ]
            ],
            "type": "surface"
           }
          ],
          "table": [
           {
            "cells": {
             "fill": {
              "color": "#EBF0F8"
             },
             "line": {
              "color": "white"
             }
            },
            "header": {
             "fill": {
              "color": "#C8D4E3"
             },
             "line": {
              "color": "white"
             }
            },
            "type": "table"
           }
          ]
         },
         "layout": {
          "annotationdefaults": {
           "arrowcolor": "#2a3f5f",
           "arrowhead": 0,
           "arrowwidth": 1
          },
          "autotypenumbers": "strict",
          "coloraxis": {
           "colorbar": {
            "outlinewidth": 0,
            "ticks": ""
           }
          },
          "colorscale": {
           "diverging": [
            [
             0,
             "#8e0152"
            ],
            [
             0.1,
             "#c51b7d"
            ],
            [
             0.2,
             "#de77ae"
            ],
            [
             0.3,
             "#f1b6da"
            ],
            [
             0.4,
             "#fde0ef"
            ],
            [
             0.5,
             "#f7f7f7"
            ],
            [
             0.6,
             "#e6f5d0"
            ],
            [
             0.7,
             "#b8e186"
            ],
            [
             0.8,
             "#7fbc41"
            ],
            [
             0.9,
             "#4d9221"
            ],
            [
             1,
             "#276419"
            ]
           ],
           "sequential": [
            [
             0,
             "#0d0887"
            ],
            [
             0.1111111111111111,
             "#46039f"
            ],
            [
             0.2222222222222222,
             "#7201a8"
            ],
            [
             0.3333333333333333,
             "#9c179e"
            ],
            [
             0.4444444444444444,
             "#bd3786"
            ],
            [
             0.5555555555555556,
             "#d8576b"
            ],
            [
             0.6666666666666666,
             "#ed7953"
            ],
            [
             0.7777777777777778,
             "#fb9f3a"
            ],
            [
             0.8888888888888888,
             "#fdca26"
            ],
            [
             1,
             "#f0f921"
            ]
           ],
           "sequentialminus": [
            [
             0,
             "#0d0887"
            ],
            [
             0.1111111111111111,
             "#46039f"
            ],
            [
             0.2222222222222222,
             "#7201a8"
            ],
            [
             0.3333333333333333,
             "#9c179e"
            ],
            [
             0.4444444444444444,
             "#bd3786"
            ],
            [
             0.5555555555555556,
             "#d8576b"
            ],
            [
             0.6666666666666666,
             "#ed7953"
            ],
            [
             0.7777777777777778,
             "#fb9f3a"
            ],
            [
             0.8888888888888888,
             "#fdca26"
            ],
            [
             1,
             "#f0f921"
            ]
           ]
          },
          "colorway": [
           "#636efa",
           "#EF553B",
           "#00cc96",
           "#ab63fa",
           "#FFA15A",
           "#19d3f3",
           "#FF6692",
           "#B6E880",
           "#FF97FF",
           "#FECB52"
          ],
          "font": {
           "color": "#2a3f5f"
          },
          "geo": {
           "bgcolor": "white",
           "lakecolor": "white",
           "landcolor": "#E5ECF6",
           "showlakes": true,
           "showland": true,
           "subunitcolor": "white"
          },
          "hoverlabel": {
           "align": "left"
          },
          "hovermode": "closest",
          "mapbox": {
           "style": "light"
          },
          "paper_bgcolor": "white",
          "plot_bgcolor": "#E5ECF6",
          "polar": {
           "angularaxis": {
            "gridcolor": "white",
            "linecolor": "white",
            "ticks": ""
           },
           "bgcolor": "#E5ECF6",
           "radialaxis": {
            "gridcolor": "white",
            "linecolor": "white",
            "ticks": ""
           }
          },
          "scene": {
           "xaxis": {
            "backgroundcolor": "#E5ECF6",
            "gridcolor": "white",
            "gridwidth": 2,
            "linecolor": "white",
            "showbackground": true,
            "ticks": "",
            "zerolinecolor": "white"
           },
           "yaxis": {
            "backgroundcolor": "#E5ECF6",
            "gridcolor": "white",
            "gridwidth": 2,
            "linecolor": "white",
            "showbackground": true,
            "ticks": "",
            "zerolinecolor": "white"
           },
           "zaxis": {
            "backgroundcolor": "#E5ECF6",
            "gridcolor": "white",
            "gridwidth": 2,
            "linecolor": "white",
            "showbackground": true,
            "ticks": "",
            "zerolinecolor": "white"
           }
          },
          "shapedefaults": {
           "line": {
            "color": "#2a3f5f"
           }
          },
          "ternary": {
           "aaxis": {
            "gridcolor": "white",
            "linecolor": "white",
            "ticks": ""
           },
           "baxis": {
            "gridcolor": "white",
            "linecolor": "white",
            "ticks": ""
           },
           "bgcolor": "#E5ECF6",
           "caxis": {
            "gridcolor": "white",
            "linecolor": "white",
            "ticks": ""
           }
          },
          "title": {
           "x": 0.05
          },
          "xaxis": {
           "automargin": true,
           "gridcolor": "white",
           "linecolor": "white",
           "ticks": "",
           "title": {
            "standoff": 15
           },
           "zerolinecolor": "white",
           "zerolinewidth": 2
          },
          "yaxis": {
           "automargin": true,
           "gridcolor": "white",
           "linecolor": "white",
           "ticks": "",
           "title": {
            "standoff": 15
           },
           "zerolinecolor": "white",
           "zerolinewidth": 2
          }
         }
        },
        "title": {
         "text": "3D Pose Landmarks - Frame 200"
        }
       }
      }
     },
     "metadata": {},
     "output_type": "display_data"
    }
   ],
   "source": [
    "fig = px.scatter_3d(frame3d_df, x=\"z\", y=\"x\", z=\"y\",\n",
    "                 title=f\"3D Pose Landmarks - Frame {frame_id}\",text='landmark',\n",
    "                 labels={\"x\": \"X\", \"y\": \"Y\",\"z\":\"Z\"})\n",
    "\n",
    "\n",
    "fig.show()"
   ]
  },
  {
   "cell_type": "code",
   "execution_count": 29,
   "id": "ed022094",
   "metadata": {},
   "outputs": [
    {
     "name": "stderr",
     "output_type": "stream",
     "text": [
      "C:\\Users\\ananj\\AppData\\Local\\Temp\\ipykernel_844\\3922784496.py:3: SettingWithCopyWarning:\n",
      "\n",
      "\n",
      "A value is trying to be set on a copy of a slice from a DataFrame.\n",
      "Try using .loc[row_indexer,col_indexer] = value instead\n",
      "\n",
      "See the caveats in the documentation: https://pandas.pydata.org/pandas-docs/stable/user_guide/indexing.html#returning-a-view-versus-a-copy\n",
      "\n",
      "C:\\Users\\ananj\\AppData\\Local\\Temp\\ipykernel_844\\3922784496.py:4: SettingWithCopyWarning:\n",
      "\n",
      "\n",
      "A value is trying to be set on a copy of a slice from a DataFrame.\n",
      "Try using .loc[row_indexer,col_indexer] = value instead\n",
      "\n",
      "See the caveats in the documentation: https://pandas.pydata.org/pandas-docs/stable/user_guide/indexing.html#returning-a-view-versus-a-copy\n",
      "\n",
      "C:\\Users\\ananj\\AppData\\Local\\Temp\\ipykernel_844\\3922784496.py:5: SettingWithCopyWarning:\n",
      "\n",
      "\n",
      "A value is trying to be set on a copy of a slice from a DataFrame.\n",
      "Try using .loc[row_indexer,col_indexer] = value instead\n",
      "\n",
      "See the caveats in the documentation: https://pandas.pydata.org/pandas-docs/stable/user_guide/indexing.html#returning-a-view-versus-a-copy\n",
      "\n"
     ]
    },
    {
     "data": {
      "text/html": [
       "<div>\n",
       "<style scoped>\n",
       "    .dataframe tbody tr th:only-of-type {\n",
       "        vertical-align: middle;\n",
       "    }\n",
       "\n",
       "    .dataframe tbody tr th {\n",
       "        vertical-align: top;\n",
       "    }\n",
       "\n",
       "    .dataframe thead th {\n",
       "        text-align: right;\n",
       "    }\n",
       "</style>\n",
       "<table border=\"1\" class=\"dataframe\">\n",
       "  <thead>\n",
       "    <tr style=\"text-align: right;\">\n",
       "      <th></th>\n",
       "      <th>frame</th>\n",
       "      <th>landmark</th>\n",
       "      <th>x</th>\n",
       "      <th>y</th>\n",
       "      <th>z</th>\n",
       "      <th>visibility</th>\n",
       "      <th>presence</th>\n",
       "    </tr>\n",
       "  </thead>\n",
       "  <tbody>\n",
       "    <tr>\n",
       "      <th>26</th>\n",
       "      <td>0.043478</td>\n",
       "      <td>26</td>\n",
       "      <td>4.813462</td>\n",
       "      <td>2.475526</td>\n",
       "      <td>-0.142275</td>\n",
       "      <td>0.981125</td>\n",
       "      <td>0.999970</td>\n",
       "    </tr>\n",
       "    <tr>\n",
       "      <th>59</th>\n",
       "      <td>0.086957</td>\n",
       "      <td>26</td>\n",
       "      <td>3.663755</td>\n",
       "      <td>2.680394</td>\n",
       "      <td>-0.205145</td>\n",
       "      <td>0.997046</td>\n",
       "      <td>0.997805</td>\n",
       "    </tr>\n",
       "    <tr>\n",
       "      <th>92</th>\n",
       "      <td>0.130435</td>\n",
       "      <td>26</td>\n",
       "      <td>4.011186</td>\n",
       "      <td>2.845632</td>\n",
       "      <td>-0.266330</td>\n",
       "      <td>0.996224</td>\n",
       "      <td>0.995647</td>\n",
       "    </tr>\n",
       "    <tr>\n",
       "      <th>125</th>\n",
       "      <td>0.173913</td>\n",
       "      <td>26</td>\n",
       "      <td>4.646956</td>\n",
       "      <td>2.971872</td>\n",
       "      <td>-0.227585</td>\n",
       "      <td>0.929722</td>\n",
       "      <td>0.994871</td>\n",
       "    </tr>\n",
       "    <tr>\n",
       "      <th>158</th>\n",
       "      <td>0.217391</td>\n",
       "      <td>26</td>\n",
       "      <td>4.331094</td>\n",
       "      <td>3.053530</td>\n",
       "      <td>-0.173981</td>\n",
       "      <td>0.922672</td>\n",
       "      <td>0.988023</td>\n",
       "    </tr>\n",
       "    <tr>\n",
       "      <th>...</th>\n",
       "      <td>...</td>\n",
       "      <td>...</td>\n",
       "      <td>...</td>\n",
       "      <td>...</td>\n",
       "      <td>...</td>\n",
       "      <td>...</td>\n",
       "      <td>...</td>\n",
       "    </tr>\n",
       "    <tr>\n",
       "      <th>8441</th>\n",
       "      <td>11.391304</td>\n",
       "      <td>26</td>\n",
       "      <td>5.753971</td>\n",
       "      <td>2.872205</td>\n",
       "      <td>-0.226694</td>\n",
       "      <td>0.997547</td>\n",
       "      <td>0.990540</td>\n",
       "    </tr>\n",
       "    <tr>\n",
       "      <th>8474</th>\n",
       "      <td>11.434783</td>\n",
       "      <td>26</td>\n",
       "      <td>6.150541</td>\n",
       "      <td>2.936690</td>\n",
       "      <td>-0.219928</td>\n",
       "      <td>0.989966</td>\n",
       "      <td>0.994203</td>\n",
       "    </tr>\n",
       "    <tr>\n",
       "      <th>8507</th>\n",
       "      <td>11.478261</td>\n",
       "      <td>26</td>\n",
       "      <td>7.209713</td>\n",
       "      <td>-0.088124</td>\n",
       "      <td>-0.072660</td>\n",
       "      <td>0.724061</td>\n",
       "      <td>0.690310</td>\n",
       "    </tr>\n",
       "    <tr>\n",
       "      <th>8540</th>\n",
       "      <td>11.565217</td>\n",
       "      <td>26</td>\n",
       "      <td>7.337823</td>\n",
       "      <td>2.763528</td>\n",
       "      <td>-0.234737</td>\n",
       "      <td>0.947972</td>\n",
       "      <td>0.980287</td>\n",
       "    </tr>\n",
       "    <tr>\n",
       "      <th>8573</th>\n",
       "      <td>11.608696</td>\n",
       "      <td>26</td>\n",
       "      <td>7.329715</td>\n",
       "      <td>1.425332</td>\n",
       "      <td>0.255290</td>\n",
       "      <td>0.497452</td>\n",
       "      <td>0.972146</td>\n",
       "    </tr>\n",
       "  </tbody>\n",
       "</table>\n",
       "<p>260 rows × 7 columns</p>\n",
       "</div>"
      ],
      "text/plain": [
       "          frame  landmark         x         y         z  visibility  presence\n",
       "26     0.043478        26  4.813462  2.475526 -0.142275    0.981125  0.999970\n",
       "59     0.086957        26  3.663755  2.680394 -0.205145    0.997046  0.997805\n",
       "92     0.130435        26  4.011186  2.845632 -0.266330    0.996224  0.995647\n",
       "125    0.173913        26  4.646956  2.971872 -0.227585    0.929722  0.994871\n",
       "158    0.217391        26  4.331094  3.053530 -0.173981    0.922672  0.988023\n",
       "...         ...       ...       ...       ...       ...         ...       ...\n",
       "8441  11.391304        26  5.753971  2.872205 -0.226694    0.997547  0.990540\n",
       "8474  11.434783        26  6.150541  2.936690 -0.219928    0.989966  0.994203\n",
       "8507  11.478261        26  7.209713 -0.088124 -0.072660    0.724061  0.690310\n",
       "8540  11.565217        26  7.337823  2.763528 -0.234737    0.947972  0.980287\n",
       "8573  11.608696        26  7.329715  1.425332  0.255290    0.497452  0.972146\n",
       "\n",
       "[260 rows x 7 columns]"
      ]
     },
     "execution_count": 29,
     "metadata": {},
     "output_type": "execute_result"
    }
   ],
   "source": [
    "ldmk=26\n",
    "time_df = df[df['landmark']==ldmk]\n",
    "time_df['frame']/=23\n",
    "time_df['x']*=9.6\n",
    "time_df['y']*=5.4\n",
    "time_df\n"
   ]
  },
  {
   "cell_type": "code",
   "execution_count": 39,
   "id": "00eeacb1",
   "metadata": {},
   "outputs": [
    {
     "data": {
      "application/vnd.plotly.v1+json": {
       "config": {
        "plotlyServerURL": "https://plot.ly"
       },
       "data": [
        {
         "hovertemplate": "Time=%{x}<br>X=%{y}<extra></extra>",
         "legendgroup": "",
         "marker": {
          "color": "#636efa",
          "symbol": "circle"
         },
         "mode": "markers",
         "name": "",
         "orientation": "v",
         "showlegend": false,
         "type": "scatter",
         "x": {
          "bdata": "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",
          "dtype": "f8"
         },
         "xaxis": "x",
         "y": {
          "bdata": "AAAAQPxAE0BlZmamXk8NQDMzM1N0CxBAZmZmhnuWEkAzMzNTClMRQM3MzGy6EhBAAAAAgPe2DEDLzMwMJCQMQJmZmdlcGw5AZmZmRl4mEECZmZn5eGERQGZmZmaZfxNAzczMTF1IFUBmZmaG7/YQQJmZmVn1cxBAmZmZWdEtEUDNzMxMEDgYQDMzM7N52xZAzczMjDczFkCZmZmZtssUQGZmZmbqQxNAAAAAAKmPEkCZmZnZgG4WQM3MzEwtmBNAmZmZmVMdFEBmZmYmmJoVQDMzM3OQqhZAmZmZGb82GEAAAAAASYMYQAAAAADtSBJAzczMzEfYEUBmZmbmmWkSQGZmZuavmBJAmZmZma9SE0CZmZmZVE4VQDMzMzPMjhVAMjMzs029EkBmZmamvNwQQMzMzEzkkg9AMjMzczUDEEAyMzNz34UQQJmZmfnOVhFAZmZmppFaEkAzMzPzfL8TQAAAAMCJRhVAAAAAAO9CFkAzMzNzXlsWQDMzM/OcORZAMzMzs4mBFUCZmZmZV5EUQAAAAEANzxNAmZmZ2Y42E0AzMzMzuE0TQJmZmdljuA9AZWZmJmEFDkCZmZkZa6IOQGZmZiY0JRBAMzMzc3I6EUAzMzOz92YTQJmZmdlZBBRAmZmZWf+sFUBmZmZmA0wWQJmZmZl6rhZAMzMz801MFkAzMzOzyqMVQDMzMzPx9xRAmZmZ2VY9FEDNzMwMBbITQJmZmfly5BJAMzMzM8C6FkAzMzMzQMcUQJmZmZmOYRBAZmZmRkIREUAAAADgjOERQJmZmbl1/RJAzczMDIp9FEDNzMzMMBIWQJmZmRkizBZAZmZmZgj4FkBmZmZmiZUWQGZmZqZz2xVAAAAAwE2LFUDNzMxMzg0VQJmZmZk8vhRAzczMDLmBFED////f33wRQGZmZmZe/xBAZmZmprkPEUCZmZmZCYIRQMzMzEw46RFAmZmZ2agPFEAzMzPzLHUUQDMzM7NX0RVAMzMzM3xuFkDNzMzMmcAWQDMzM3P/dxZAmZmZmQj3FUBmZmamMqQVQAAAAMAnVBVAMzMz8wAoFUAAAABAWgQWQM3MzOwKnRJAZmZmpgLwEUD///9/PvwRQJmZmflJdxJAmZmZebUAE0AzMzNz8LMTQAAAAIBUWBVAAAAAAAzMFUBmZmZmuhUXQJmZmdmwdhdAzczMzAxoF0AAAACAGAIXQGZmZmYBwxZAmZmZGUSMFkCZmZkZUhgWQDMzM3Oe+hVAzczMjAXUFkDNzMxMvEITQGZmZmbbRBJAMzMzs9E2EkAzMzNTdjoSQGZmZibwkBJAmZmZWWqZEkAAAADA33YTQJmZmVlvCxRAmZmZGR+YFEAzMzPzi4gUQM3MzIyhVRRAZmZm5hzEE0CZmZk5+Q4TQAAAAECfaxJAmZmZ2RahEUBmZmZmYQESQMzMzAwQRA9AzczMDJMPE0DLzMxMJgYMQM3MzMyUfgtAMzMzs48UDEAzMzOzJisNQMzMzExZ6Q1AZmZmxgABEECZmZn5ZVwRQGZmZuaO/xFAZmZmZpc6EkAAAAAgdpYSQP///39dRhJAmZmZ+SSsEUBmZmbmY3kRQP///z/Q7RBAmZmZGcIuEUCZmZnZxQASQGZmZkZXWxJAZmZmpqkZCkCZmZmZozwKQAAAAEAC4Q5Ay8zMzN9QDEBmZmZmRKkNQDIzMzOQXRBAzczMjGRfEUBmZmamwoASQAAAAEBJ9xJAmZmZGUNmE0CZmZmZFHgTQGZmZuZT9xJAZmZmRvOmEkAyMzMT3mYSQDMzM5M1tBFAzMzMrN4nEkDMzMyMHuIPQJmZmZmw0hNAMzMzM/x0DUCYmZkZGhsOQDMzM/MhjQ9AZmZmBp1sEEDNzMysSOESQJmZmbnNeBJAmZmZ2R+9E0BmZmYmpnsUQGZmZiY7DRVAAAAAQDX9FECZmZkZKocUQGZmZuZe8RNAMzMzc5uiE0AzMzNzCvsSQDMzM7OnaxNAZmZmhumtEUCZmZm5nzsRQGVmZmb6pg5AAAAAANl8D0AyMzOzPzEQQDIzM3OOxxBAMzMzU76JEUDMzMyM1RATQM3MzEyPXBRAAAAAgHpTFUAzMzOzzegVQDMzMzP/NhZAAAAAQP4FFkDNzMxMZ3oVQGZmZmadLhVAMzMzc06mFEAAAADAmC8UQM3MzIwzoRVAMzMzc9/ZE0DNzMzMOPISQDMzM/O5HhFA////f5+kEUAAAADgT10SQAAAAIAn6BJAmZmZGZi1FEBmZmbmmoAVQGZmZiZqjhZAZmZmJoxfF0BmZmYmdfoXQJmZmZm62RdAzczMTIxcF0AzMzOzxuUWQGZmZuZxbxZAAAAAQKu/FUDNzMyMIxYXQJmZmdnarBdAZmZmprNBGEDMzMzMniMSQP////+XdhJAmZmZmbrHF0AzMzNz6NMTQGZmZmZGGxZAZmZm5hi/FkAzMzOzwk4YQAAAAEAWWhlAzczMDBq+GUDNzMzMJXoZQM3MzExRuhhAmZmZGbg9GEAAAACAm7cXQDMzMzNP8hZAZmZm5oRJF0AzMzMzGjwXQJmZmVnE4RVAzczMzG36EUCZmZlZAHkSQDIzM/PA+hJAMzMz8+/oE0BmZmbmYgcYQJmZmdk3yhJAzczMLNyUEkDNzMyMhHEYQAAAAMA3LhxAMzMzcwbPG0AzMzOzfmIbQDMzM/MqOBpAzczMzFUYGEAAAADAtogYQDMzM7OxyBVAMzMz8xAEF0AAAACAJ5oYQGZmZua+1hxAZmZmZu5ZHUBmZmbmoFEdQA==",
          "dtype": "f8"
         },
         "yaxis": "y"
        }
       ],
       "layout": {
        "legend": {
         "tracegroupgap": 0
        },
        "template": {
         "data": {
          "bar": [
           {
            "error_x": {
             "color": "#2a3f5f"
            },
            "error_y": {
             "color": "#2a3f5f"
            },
            "marker": {
             "line": {
              "color": "#E5ECF6",
              "width": 0.5
             },
             "pattern": {
              "fillmode": "overlay",
              "size": 10,
              "solidity": 0.2
             }
            },
            "type": "bar"
           }
          ],
          "barpolar": [
           {
            "marker": {
             "line": {
              "color": "#E5ECF6",
              "width": 0.5
             },
             "pattern": {
              "fillmode": "overlay",
              "size": 10,
              "solidity": 0.2
             }
            },
            "type": "barpolar"
           }
          ],
          "carpet": [
           {
            "aaxis": {
             "endlinecolor": "#2a3f5f",
             "gridcolor": "white",
             "linecolor": "white",
             "minorgridcolor": "white",
             "startlinecolor": "#2a3f5f"
            },
            "baxis": {
             "endlinecolor": "#2a3f5f",
             "gridcolor": "white",
             "linecolor": "white",
             "minorgridcolor": "white",
             "startlinecolor": "#2a3f5f"
            },
            "type": "carpet"
           }
          ],
          "choropleth": [
           {
            "colorbar": {
             "outlinewidth": 0,
             "ticks": ""
            },
            "type": "choropleth"
           }
          ],
          "contour": [
           {
            "colorbar": {
             "outlinewidth": 0,
             "ticks": ""
            },
            "colorscale": [
             [
              0,
              "#0d0887"
             ],
             [
              0.1111111111111111,
              "#46039f"
             ],
             [
              0.2222222222222222,
              "#7201a8"
             ],
             [
              0.3333333333333333,
              "#9c179e"
             ],
             [
              0.4444444444444444,
              "#bd3786"
             ],
             [
              0.5555555555555556,
              "#d8576b"
             ],
             [
              0.6666666666666666,
              "#ed7953"
             ],
             [
              0.7777777777777778,
              "#fb9f3a"
             ],
             [
              0.8888888888888888,
              "#fdca26"
             ],
             [
              1,
              "#f0f921"
             ]
            ],
            "type": "contour"
           }
          ],
          "contourcarpet": [
           {
            "colorbar": {
             "outlinewidth": 0,
             "ticks": ""
            },
            "type": "contourcarpet"
           }
          ],
          "heatmap": [
           {
            "colorbar": {
             "outlinewidth": 0,
             "ticks": ""
            },
            "colorscale": [
             [
              0,
              "#0d0887"
             ],
             [
              0.1111111111111111,
              "#46039f"
             ],
             [
              0.2222222222222222,
              "#7201a8"
             ],
             [
              0.3333333333333333,
              "#9c179e"
             ],
             [
              0.4444444444444444,
              "#bd3786"
             ],
             [
              0.5555555555555556,
              "#d8576b"
             ],
             [
              0.6666666666666666,
              "#ed7953"
             ],
             [
              0.7777777777777778,
              "#fb9f3a"
             ],
             [
              0.8888888888888888,
              "#fdca26"
             ],
             [
              1,
              "#f0f921"
             ]
            ],
            "type": "heatmap"
           }
          ],
          "histogram": [
           {
            "marker": {
             "pattern": {
              "fillmode": "overlay",
              "size": 10,
              "solidity": 0.2
             }
            },
            "type": "histogram"
           }
          ],
          "histogram2d": [
           {
            "colorbar": {
             "outlinewidth": 0,
             "ticks": ""
            },
            "colorscale": [
             [
              0,
              "#0d0887"
             ],
             [
              0.1111111111111111,
              "#46039f"
             ],
             [
              0.2222222222222222,
              "#7201a8"
             ],
             [
              0.3333333333333333,
              "#9c179e"
             ],
             [
              0.4444444444444444,
              "#bd3786"
             ],
             [
              0.5555555555555556,
              "#d8576b"
             ],
             [
              0.6666666666666666,
              "#ed7953"
             ],
             [
              0.7777777777777778,
              "#fb9f3a"
             ],
             [
              0.8888888888888888,
              "#fdca26"
             ],
             [
              1,
              "#f0f921"
             ]
            ],
            "type": "histogram2d"
           }
          ],
          "histogram2dcontour": [
           {
            "colorbar": {
             "outlinewidth": 0,
             "ticks": ""
            },
            "colorscale": [
             [
              0,
              "#0d0887"
             ],
             [
              0.1111111111111111,
              "#46039f"
             ],
             [
              0.2222222222222222,
              "#7201a8"
             ],
             [
              0.3333333333333333,
              "#9c179e"
             ],
             [
              0.4444444444444444,
              "#bd3786"
             ],
             [
              0.5555555555555556,
              "#d8576b"
             ],
             [
              0.6666666666666666,
              "#ed7953"
             ],
             [
              0.7777777777777778,
              "#fb9f3a"
             ],
             [
              0.8888888888888888,
              "#fdca26"
             ],
             [
              1,
              "#f0f921"
             ]
            ],
            "type": "histogram2dcontour"
           }
          ],
          "mesh3d": [
           {
            "colorbar": {
             "outlinewidth": 0,
             "ticks": ""
            },
            "type": "mesh3d"
           }
          ],
          "parcoords": [
           {
            "line": {
             "colorbar": {
              "outlinewidth": 0,
              "ticks": ""
             }
            },
            "type": "parcoords"
           }
          ],
          "pie": [
           {
            "automargin": true,
            "type": "pie"
           }
          ],
          "scatter": [
           {
            "fillpattern": {
             "fillmode": "overlay",
             "size": 10,
             "solidity": 0.2
            },
            "type": "scatter"
           }
          ],
          "scatter3d": [
           {
            "line": {
             "colorbar": {
              "outlinewidth": 0,
              "ticks": ""
             }
            },
            "marker": {
             "colorbar": {
              "outlinewidth": 0,
              "ticks": ""
             }
            },
            "type": "scatter3d"
           }
          ],
          "scattercarpet": [
           {
            "marker": {
             "colorbar": {
              "outlinewidth": 0,
              "ticks": ""
             }
            },
            "type": "scattercarpet"
           }
          ],
          "scattergeo": [
           {
            "marker": {
             "colorbar": {
              "outlinewidth": 0,
              "ticks": ""
             }
            },
            "type": "scattergeo"
           }
          ],
          "scattergl": [
           {
            "marker": {
             "colorbar": {
              "outlinewidth": 0,
              "ticks": ""
             }
            },
            "type": "scattergl"
           }
          ],
          "scattermap": [
           {
            "marker": {
             "colorbar": {
              "outlinewidth": 0,
              "ticks": ""
             }
            },
            "type": "scattermap"
           }
          ],
          "scattermapbox": [
           {
            "marker": {
             "colorbar": {
              "outlinewidth": 0,
              "ticks": ""
             }
            },
            "type": "scattermapbox"
           }
          ],
          "scatterpolar": [
           {
            "marker": {
             "colorbar": {
              "outlinewidth": 0,
              "ticks": ""
             }
            },
            "type": "scatterpolar"
           }
          ],
          "scatterpolargl": [
           {
            "marker": {
             "colorbar": {
              "outlinewidth": 0,
              "ticks": ""
             }
            },
            "type": "scatterpolargl"
           }
          ],
          "scatterternary": [
           {
            "marker": {
             "colorbar": {
              "outlinewidth": 0,
              "ticks": ""
             }
            },
            "type": "scatterternary"
           }
          ],
          "surface": [
           {
            "colorbar": {
             "outlinewidth": 0,
             "ticks": ""
            },
            "colorscale": [
             [
              0,
              "#0d0887"
             ],
             [
              0.1111111111111111,
              "#46039f"
             ],
             [
              0.2222222222222222,
              "#7201a8"
             ],
             [
              0.3333333333333333,
              "#9c179e"
             ],
             [
              0.4444444444444444,
              "#bd3786"
             ],
             [
              0.5555555555555556,
              "#d8576b"
             ],
             [
              0.6666666666666666,
              "#ed7953"
             ],
             [
              0.7777777777777778,
              "#fb9f3a"
             ],
             [
              0.8888888888888888,
              "#fdca26"
             ],
             [
              1,
              "#f0f921"
             ]
            ],
            "type": "surface"
           }
          ],
          "table": [
           {
            "cells": {
             "fill": {
              "color": "#EBF0F8"
             },
             "line": {
              "color": "white"
             }
            },
            "header": {
             "fill": {
              "color": "#C8D4E3"
             },
             "line": {
              "color": "white"
             }
            },
            "type": "table"
           }
          ]
         },
         "layout": {
          "annotationdefaults": {
           "arrowcolor": "#2a3f5f",
           "arrowhead": 0,
           "arrowwidth": 1
          },
          "autotypenumbers": "strict",
          "coloraxis": {
           "colorbar": {
            "outlinewidth": 0,
            "ticks": ""
           }
          },
          "colorscale": {
           "diverging": [
            [
             0,
             "#8e0152"
            ],
            [
             0.1,
             "#c51b7d"
            ],
            [
             0.2,
             "#de77ae"
            ],
            [
             0.3,
             "#f1b6da"
            ],
            [
             0.4,
             "#fde0ef"
            ],
            [
             0.5,
             "#f7f7f7"
            ],
            [
             0.6,
             "#e6f5d0"
            ],
            [
             0.7,
             "#b8e186"
            ],
            [
             0.8,
             "#7fbc41"
            ],
            [
             0.9,
             "#4d9221"
            ],
            [
             1,
             "#276419"
            ]
           ],
           "sequential": [
            [
             0,
             "#0d0887"
            ],
            [
             0.1111111111111111,
             "#46039f"
            ],
            [
             0.2222222222222222,
             "#7201a8"
            ],
            [
             0.3333333333333333,
             "#9c179e"
            ],
            [
             0.4444444444444444,
             "#bd3786"
            ],
            [
             0.5555555555555556,
             "#d8576b"
            ],
            [
             0.6666666666666666,
             "#ed7953"
            ],
            [
             0.7777777777777778,
             "#fb9f3a"
            ],
            [
             0.8888888888888888,
             "#fdca26"
            ],
            [
             1,
             "#f0f921"
            ]
           ],
           "sequentialminus": [
            [
             0,
             "#0d0887"
            ],
            [
             0.1111111111111111,
             "#46039f"
            ],
            [
             0.2222222222222222,
             "#7201a8"
            ],
            [
             0.3333333333333333,
             "#9c179e"
            ],
            [
             0.4444444444444444,
             "#bd3786"
            ],
            [
             0.5555555555555556,
             "#d8576b"
            ],
            [
             0.6666666666666666,
             "#ed7953"
            ],
            [
             0.7777777777777778,
             "#fb9f3a"
            ],
            [
             0.8888888888888888,
             "#fdca26"
            ],
            [
             1,
             "#f0f921"
            ]
           ]
          },
          "colorway": [
           "#636efa",
           "#EF553B",
           "#00cc96",
           "#ab63fa",
           "#FFA15A",
           "#19d3f3",
           "#FF6692",
           "#B6E880",
           "#FF97FF",
           "#FECB52"
          ],
          "font": {
           "color": "#2a3f5f"
          },
          "geo": {
           "bgcolor": "white",
           "lakecolor": "white",
           "landcolor": "#E5ECF6",
           "showlakes": true,
           "showland": true,
           "subunitcolor": "white"
          },
          "hoverlabel": {
           "align": "left"
          },
          "hovermode": "closest",
          "mapbox": {
           "style": "light"
          },
          "paper_bgcolor": "white",
          "plot_bgcolor": "#E5ECF6",
          "polar": {
           "angularaxis": {
            "gridcolor": "white",
            "linecolor": "white",
            "ticks": ""
           },
           "bgcolor": "#E5ECF6",
           "radialaxis": {
            "gridcolor": "white",
            "linecolor": "white",
            "ticks": ""
           }
          },
          "scene": {
           "xaxis": {
            "backgroundcolor": "#E5ECF6",
            "gridcolor": "white",
            "gridwidth": 2,
            "linecolor": "white",
            "showbackground": true,
            "ticks": "",
            "zerolinecolor": "white"
           },
           "yaxis": {
            "backgroundcolor": "#E5ECF6",
            "gridcolor": "white",
            "gridwidth": 2,
            "linecolor": "white",
            "showbackground": true,
            "ticks": "",
            "zerolinecolor": "white"
           },
           "zaxis": {
            "backgroundcolor": "#E5ECF6",
            "gridcolor": "white",
            "gridwidth": 2,
            "linecolor": "white",
            "showbackground": true,
            "ticks": "",
            "zerolinecolor": "white"
           }
          },
          "shapedefaults": {
           "line": {
            "color": "#2a3f5f"
           }
          },
          "ternary": {
           "aaxis": {
            "gridcolor": "white",
            "linecolor": "white",
            "ticks": ""
           },
           "baxis": {
            "gridcolor": "white",
            "linecolor": "white",
            "ticks": ""
           },
           "bgcolor": "#E5ECF6",
           "caxis": {
            "gridcolor": "white",
            "linecolor": "white",
            "ticks": ""
           }
          },
          "title": {
           "x": 0.05
          },
          "xaxis": {
           "automargin": true,
           "gridcolor": "white",
           "linecolor": "white",
           "ticks": "",
           "title": {
            "standoff": 15
           },
           "zerolinecolor": "white",
           "zerolinewidth": 2
          },
          "yaxis": {
           "automargin": true,
           "gridcolor": "white",
           "linecolor": "white",
           "ticks": "",
           "title": {
            "standoff": 15
           },
           "zerolinecolor": "white",
           "zerolinewidth": 2
          }
         }
        },
        "title": {
         "text": "2D_Data Pose Landmark Movement - Landmark 26"
        },
        "xaxis": {
         "anchor": "y",
         "domain": [
          0,
          1
         ],
         "range": [
          0,
          9.6
         ],
         "title": {
          "text": "Time"
         }
        },
        "yaxis": {
         "anchor": "x",
         "domain": [
          0,
          1
         ],
         "title": {
          "text": "X"
         }
        }
       }
      }
     },
     "metadata": {},
     "output_type": "display_data"
    }
   ],
   "source": [
    "fig = px.scatter(time_df, x=\"frame\",y='x',\n",
    "                 title=f\"2D_Data Pose Landmark Movement - Landmark {ldmk}\",\n",
    "                 labels={\"x\": \"X\",\"frame\":\"Time\"},\n",
    "                 range_x=(0,9.6))\n",
    "\n",
    "fig.show()"
   ]
  }
 ],
 "metadata": {
  "kernelspec": {
   "display_name": ".venv",
   "language": "python",
   "name": "python3"
  },
  "language_info": {
   "codemirror_mode": {
    "name": "ipython",
    "version": 3
   },
   "file_extension": ".py",
   "mimetype": "text/x-python",
   "name": "python",
   "nbconvert_exporter": "python",
   "pygments_lexer": "ipython3",
   "version": "3.12.2"
  }
 },
 "nbformat": 4,
 "nbformat_minor": 5
}
